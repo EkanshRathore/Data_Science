{
 "cells": [
  {
   "cell_type": "code",
   "execution_count": 1,
   "id": "initial_id",
   "metadata": {
    "collapsed": true,
    "ExecuteTime": {
     "end_time": "2023-08-21T20:08:26.706290800Z",
     "start_time": "2023-08-21T20:08:26.698108300Z"
    }
   },
   "outputs": [
    {
     "name": "stdout",
     "output_type": "stream",
     "text": [
      "['Congrate you have won the lottery money, If you wan the lottery money call the lottery money number and get your money', 'Give your bank details for lottery money', 'Lottery for sure if bank details are verified']\n"
     ]
    }
   ],
   "source": [
    "#SUPPORT VECTOR MACHINE = Support vector classifier (Similar to logistic regression)\n",
    "s = ['Congrate you have won the lottery money, If you wan the lottery money call the lottery money number and get your money','Give your bank details for lottery money','Lottery for sure if bank details are verified']\n",
    "print(s)"
   ]
  },
  {
   "cell_type": "code",
   "execution_count": 2,
   "outputs": [
    {
     "data": {
      "text/plain": "list"
     },
     "execution_count": 2,
     "metadata": {},
     "output_type": "execute_result"
    }
   ],
   "source": [
    "type(s)"
   ],
   "metadata": {
    "collapsed": false,
    "ExecuteTime": {
     "end_time": "2023-08-21T20:08:26.800274900Z",
     "start_time": "2023-08-21T20:08:26.711468200Z"
    }
   },
   "id": "eed6c3ed21381629"
  },
  {
   "cell_type": "code",
   "execution_count": 9,
   "outputs": [
    {
     "name": "stdout",
     "output_type": "stream",
     "text": [
      "['Congrate', 'you', 'have', 'won', 'the', 'lottery', 'money,', 'If', 'you', 'wan', 'the', 'lottery', 'money', 'call', 'the', 'lottery', 'money', 'number', 'and', 'get', 'your', 'money']\n",
      "['Give', 'your', 'bank', 'details', 'for', 'lottery', 'money']\n",
      "['Lottery', 'for', 'sure', 'if', 'bank', 'details', 'are', 'verified']\n"
     ]
    }
   ],
   "source": [
    "#Tokenisation = Splitting up different data into different values called tokens\n",
    "sp1 = s[0].split()\n",
    "sp2 = s[1].split()\n",
    "sp3 = s[2].split()\n",
    "print(sp1)\n",
    "print(sp2)\n",
    "print(sp3)"
   ],
   "metadata": {
    "collapsed": false,
    "ExecuteTime": {
     "end_time": "2023-08-21T20:11:45.975531400Z",
     "start_time": "2023-08-21T20:11:45.943489200Z"
    }
   },
   "id": "bb99a053dca34f88"
  },
  {
   "cell_type": "code",
   "execution_count": 11,
   "outputs": [
    {
     "name": "stdout",
     "output_type": "stream",
     "text": [
      "[[0 1 0 3 4 1 0 0 1 1]\n",
      " [1 0 1 1 1 0 0 0 0 0]\n",
      " [1 0 1 1 0 0 1 1 0 0]]\n"
     ]
    }
   ],
   "source": [
    "#COUNT VECTORIZER = Tells us the importance of words given \n",
    "from sklearn.feature_extraction.text import CountVectorizer\n",
    "vect = CountVectorizer(stop_words= 'english')\n",
    "#This stops words from the sentence which are not of much meaning or use to the data\n",
    "op = vect.fit_transform(s).toarray() #COnverts the text to numbers\n",
    "print(op)\n",
    "#The transformation is done in such a way that the meaning of the data is not lost. "
   ],
   "metadata": {
    "collapsed": false,
    "ExecuteTime": {
     "end_time": "2023-08-21T20:17:28.548588300Z",
     "start_time": "2023-08-21T20:17:28.476337400Z"
    }
   },
   "id": "418c025d9590d83c"
  },
  {
   "cell_type": "code",
   "execution_count": 14,
   "outputs": [
    {
     "name": "stdout",
     "output_type": "stream",
     "text": [
      "   bank  congrate  details  lottery  money  number  sure  verified  wan  won\n",
      "0     0         1        0        3      4       1     0         0    1    1\n",
      "1     1         0        1        1      1       0     0         0    0    0\n",
      "2     1         0        1        1      0       0     1         1    0    0\n"
     ]
    }
   ],
   "source": [
    "import pandas as pd\n",
    "df = pd.DataFrame(op, columns= vect.get_feature_names_out())\n",
    "print(df)"
   ],
   "metadata": {
    "collapsed": false,
    "ExecuteTime": {
     "end_time": "2023-08-21T20:28:23.719904900Z",
     "start_time": "2023-08-21T20:28:22.327859Z"
    }
   },
   "id": "299130686c6fe1d0"
  },
  {
   "cell_type": "code",
   "execution_count": 18,
   "outputs": [
    {
     "name": "stdout",
     "output_type": "stream",
     "text": [
      "[[0.         0.2469788  0.         0.43760898 0.75133499 0.2469788\n",
      "  0.         0.         0.2469788  0.2469788 ]\n",
      " [0.52682017 0.         0.52682017 0.40912286 0.52682017 0.\n",
      "  0.         0.         0.         0.        ]\n",
      " [0.40619178 0.         0.40619178 0.31544415 0.         0.\n",
      "  0.53409337 0.53409337 0.         0.        ]]\n"
     ]
    }
   ],
   "source": [
    "#TFIDF = Term Frequency - Inverse document Frequency\n",
    "from sklearn.feature_extraction.text import TfidfVectorizer\n",
    "vect = TfidfVectorizer(stop_words='english')\n",
    "op = vect.fit_transform(s).toarray()\n",
    "print(op)"
   ],
   "metadata": {
    "collapsed": false,
    "ExecuteTime": {
     "end_time": "2023-08-21T20:34:32.473691Z",
     "start_time": "2023-08-21T20:34:32.424942100Z"
    }
   },
   "id": "50903c4d0faafb3d"
  },
  {
   "cell_type": "code",
   "execution_count": 19,
   "outputs": [
    {
     "name": "stdout",
     "output_type": "stream",
     "text": [
      "       bank  congrate   details   lottery     money    number      sure  \\\n",
      "0  0.000000  0.246979  0.000000  0.437609  0.751335  0.246979  0.000000   \n",
      "1  0.526820  0.000000  0.526820  0.409123  0.526820  0.000000  0.000000   \n",
      "2  0.406192  0.000000  0.406192  0.315444  0.000000  0.000000  0.534093   \n",
      "\n",
      "   verified       wan       won  \n",
      "0  0.000000  0.246979  0.246979  \n",
      "1  0.000000  0.000000  0.000000  \n",
      "2  0.534093  0.000000  0.000000  \n"
     ]
    }
   ],
   "source": [
    "import pandas as pd\n",
    "df1 = pd.DataFrame(op , columns= vect.get_feature_names_out())\n",
    "print(df1)"
   ],
   "metadata": {
    "collapsed": false,
    "ExecuteTime": {
     "end_time": "2023-08-21T20:34:34.691662800Z",
     "start_time": "2023-08-21T20:34:34.628431300Z"
    }
   },
   "id": "e802ef959ab591d"
  },
  {
   "cell_type": "code",
   "execution_count": null,
   "outputs": [],
   "source": [
    "#SVM MODEL\n",
    "#Dataset = spamham\n",
    "#Dataset URL = https://raw.githubusercontent.com/diazoniclabs/Machine-Learning-using-sklearn/master/Datasets/spam.tsv"
   ],
   "metadata": {
    "collapsed": false
   },
   "id": "356c447bf0d86f31"
  },
  {
   "cell_type": "code",
   "execution_count": 21,
   "outputs": [
    {
     "name": "stdout",
     "output_type": "stream",
     "text": [
      "     label                                            message  length  punct\n",
      "0      ham  Go until jurong point, crazy.. Available only ...     111      9\n",
      "1      ham                      Ok lar... Joking wif u oni...      29      6\n",
      "2     spam  Free entry in 2 a wkly comp to win FA Cup fina...     155      6\n",
      "3      ham  U dun say so early hor... U c already then say...      49      6\n",
      "4      ham  Nah I don't think he goes to usf, he lives aro...      61      2\n",
      "...    ...                                                ...     ...    ...\n",
      "5567  spam  This is the 2nd time we have tried 2 contact u...     160      8\n",
      "5568   ham               Will ü b going to esplanade fr home?      36      1\n",
      "5569   ham  Pity, * was in mood for that. So...any other s...      57      7\n",
      "5570   ham  The guy did some bitching but I acted like i'd...     125      1\n",
      "5571   ham                         Rofl. Its true to its name      26      1\n",
      "\n",
      "[5572 rows x 4 columns]\n"
     ]
    }
   ],
   "source": [
    "#1. Exploratory Data analysis\n",
    "#Tke the data And create a dataframe\n",
    "import pandas as pd\n",
    "df = pd.read_csv('https://raw.githubusercontent.com/diazoniclabs/Machine-Learning-using-sklearn/master/Datasets/spam.tsv',sep='\\t')\n",
    "print(df)"
   ],
   "metadata": {
    "collapsed": false,
    "ExecuteTime": {
     "end_time": "2023-08-21T20:41:22.775439Z",
     "start_time": "2023-08-21T20:41:22.245648800Z"
    }
   },
   "id": "8057ec3ccf317e11"
  },
  {
   "cell_type": "code",
   "execution_count": 22,
   "outputs": [
    {
     "name": "stdout",
     "output_type": "stream",
     "text": [
      "<class 'pandas.core.frame.DataFrame'>\n",
      "RangeIndex: 5572 entries, 0 to 5571\n",
      "Data columns (total 4 columns):\n",
      " #   Column   Non-Null Count  Dtype \n",
      "---  ------   --------------  ----- \n",
      " 0   label    5572 non-null   object\n",
      " 1   message  5572 non-null   object\n",
      " 2   length   5572 non-null   int64 \n",
      " 3   punct    5572 non-null   int64 \n",
      "dtypes: int64(2), object(2)\n",
      "memory usage: 174.2+ KB\n"
     ]
    }
   ],
   "source": [
    "df.info()"
   ],
   "metadata": {
    "collapsed": false,
    "ExecuteTime": {
     "end_time": "2023-08-21T20:43:49.070246800Z",
     "start_time": "2023-08-21T20:43:48.976995300Z"
    }
   },
   "id": "bca185c22826b37b"
  },
  {
   "cell_type": "code",
   "execution_count": 23,
   "outputs": [
    {
     "data": {
      "text/plain": "(5572, 4)"
     },
     "execution_count": 23,
     "metadata": {},
     "output_type": "execute_result"
    }
   ],
   "source": [
    "df.shape"
   ],
   "metadata": {
    "collapsed": false,
    "ExecuteTime": {
     "end_time": "2023-08-21T20:44:37.727187700Z",
     "start_time": "2023-08-21T20:44:37.714781900Z"
    }
   },
   "id": "494afd0c0cb667e7"
  },
  {
   "cell_type": "code",
   "execution_count": 24,
   "outputs": [
    {
     "data": {
      "text/plain": "22288"
     },
     "execution_count": 24,
     "metadata": {},
     "output_type": "execute_result"
    }
   ],
   "source": [
    "df.size"
   ],
   "metadata": {
    "collapsed": false,
    "ExecuteTime": {
     "end_time": "2023-08-21T20:44:45.502515200Z",
     "start_time": "2023-08-21T20:44:45.454979700Z"
    }
   },
   "id": "aa05a32c676c2a3a"
  },
  {
   "cell_type": "code",
   "execution_count": 25,
   "outputs": [
    {
     "data": {
      "text/plain": "            length        punct\ncount  5572.000000  5572.000000\nmean     80.489950     4.177495\nstd      59.942907     4.623919\nmin       2.000000     0.000000\n25%      36.000000     2.000000\n50%      62.000000     3.000000\n75%     122.000000     6.000000\nmax     910.000000   133.000000",
      "text/html": "<div>\n<style scoped>\n    .dataframe tbody tr th:only-of-type {\n        vertical-align: middle;\n    }\n\n    .dataframe tbody tr th {\n        vertical-align: top;\n    }\n\n    .dataframe thead th {\n        text-align: right;\n    }\n</style>\n<table border=\"1\" class=\"dataframe\">\n  <thead>\n    <tr style=\"text-align: right;\">\n      <th></th>\n      <th>length</th>\n      <th>punct</th>\n    </tr>\n  </thead>\n  <tbody>\n    <tr>\n      <th>count</th>\n      <td>5572.000000</td>\n      <td>5572.000000</td>\n    </tr>\n    <tr>\n      <th>mean</th>\n      <td>80.489950</td>\n      <td>4.177495</td>\n    </tr>\n    <tr>\n      <th>std</th>\n      <td>59.942907</td>\n      <td>4.623919</td>\n    </tr>\n    <tr>\n      <th>min</th>\n      <td>2.000000</td>\n      <td>0.000000</td>\n    </tr>\n    <tr>\n      <th>25%</th>\n      <td>36.000000</td>\n      <td>2.000000</td>\n    </tr>\n    <tr>\n      <th>50%</th>\n      <td>62.000000</td>\n      <td>3.000000</td>\n    </tr>\n    <tr>\n      <th>75%</th>\n      <td>122.000000</td>\n      <td>6.000000</td>\n    </tr>\n    <tr>\n      <th>max</th>\n      <td>910.000000</td>\n      <td>133.000000</td>\n    </tr>\n  </tbody>\n</table>\n</div>"
     },
     "execution_count": 25,
     "metadata": {},
     "output_type": "execute_result"
    }
   ],
   "source": [
    "df.describe()"
   ],
   "metadata": {
    "collapsed": false,
    "ExecuteTime": {
     "end_time": "2023-08-21T20:44:56.135985300Z",
     "start_time": "2023-08-21T20:44:55.997974900Z"
    }
   },
   "id": "4e7749401ef578a3"
  },
  {
   "cell_type": "code",
   "execution_count": 26,
   "outputs": [
    {
     "data": {
      "text/plain": "label\nham     4825\nspam     747\nName: count, dtype: int64"
     },
     "execution_count": 26,
     "metadata": {},
     "output_type": "execute_result"
    }
   ],
   "source": [
    "#Now i want to know the exact numbers of spam and ham messages\n",
    "df['label'].value_counts()"
   ],
   "metadata": {
    "collapsed": false,
    "ExecuteTime": {
     "end_time": "2023-08-21T20:46:32.084678400Z",
     "start_time": "2023-08-21T20:46:32.066832800Z"
    }
   },
   "id": "4ccf7c1ba311a8cd"
  },
  {
   "cell_type": "code",
   "execution_count": 28,
   "outputs": [
    {
     "name": "stdout",
     "output_type": "stream",
     "text": [
      "['Go until jurong point, crazy.. Available only in bugis n great world la e buffet... Cine there got amore wat...'\n",
      " 'Ok lar... Joking wif u oni...'\n",
      " \"Free entry in 2 a wkly comp to win FA Cup final tkts 21st May 2005. Text FA to 87121 to receive entry question(std txt rate)T&C's apply 08452810075over18's\"\n",
      " ... 'Pity, * was in mood for that. So...any other suggestions?'\n",
      " \"The guy did some bitching but I acted like i'd be interested in buying something else next week and he gave it to us for free\"\n",
      " 'Rofl. Its true to its name']\n"
     ]
    }
   ],
   "source": [
    "#4. Divide the data into input and output\n",
    "#Input = Message\n",
    "#Output = Label\n",
    "x = df.iloc[:,1].values #Only when text messgaes are there\n",
    "print(x)"
   ],
   "metadata": {
    "collapsed": false,
    "ExecuteTime": {
     "end_time": "2023-08-21T20:49:05.559160400Z",
     "start_time": "2023-08-21T20:49:05.525519200Z"
    }
   },
   "id": "e6a03b2dbedc3a18"
  },
  {
   "cell_type": "code",
   "execution_count": 29,
   "outputs": [
    {
     "name": "stdout",
     "output_type": "stream",
     "text": [
      "['ham' 'ham' 'spam' ... 'ham' 'ham' 'ham']\n"
     ]
    }
   ],
   "source": [
    "#Output\n",
    "y = df.iloc[:,0].values\n",
    "print(y)"
   ],
   "metadata": {
    "collapsed": false,
    "ExecuteTime": {
     "end_time": "2023-08-21T20:51:09.545391900Z",
     "start_time": "2023-08-21T20:51:09.515994900Z"
    }
   },
   "id": "815b2da85ff72b15"
  },
  {
   "cell_type": "code",
   "execution_count": 34,
   "outputs": [],
   "source": [
    "#5 Train, Test and, Split\n",
    "from sklearn.model_selection import train_test_split\n",
    "x_train, x_test, y_train, y_test = train_test_split(x,y,random_state= 0)"
   ],
   "metadata": {
    "collapsed": false,
    "ExecuteTime": {
     "end_time": "2023-08-21T20:57:35.037116500Z",
     "start_time": "2023-08-21T20:57:35.023806300Z"
    }
   },
   "id": "c97994173c08002f"
  },
  {
   "cell_type": "code",
   "execution_count": 35,
   "outputs": [
    {
     "name": "stdout",
     "output_type": "stream",
     "text": [
      "(5572,)\n",
      "(4179,)\n",
      "(1393,)\n"
     ]
    }
   ],
   "source": [
    "# For x\n",
    "print(x.shape)\n",
    "print(x_train.shape)\n",
    "print(x_test.shape)"
   ],
   "metadata": {
    "collapsed": false,
    "ExecuteTime": {
     "end_time": "2023-08-21T20:57:36.779962500Z",
     "start_time": "2023-08-21T20:57:36.764336300Z"
    }
   },
   "id": "bc211d98e5396df"
  },
  {
   "cell_type": "code",
   "execution_count": 36,
   "outputs": [
    {
     "name": "stdout",
     "output_type": "stream",
     "text": [
      "(5572,)\n",
      "(4179,)\n",
      "(1393,)\n"
     ]
    }
   ],
   "source": [
    "#For y \n",
    "print(y.shape)\n",
    "print(y_train.shape)\n",
    "print(y_test.shape)"
   ],
   "metadata": {
    "collapsed": false,
    "ExecuteTime": {
     "end_time": "2023-08-21T20:57:39.022122500Z",
     "start_time": "2023-08-21T20:57:39.006510200Z"
    }
   },
   "id": "48d4766bea40e78"
  },
  {
   "cell_type": "code",
   "execution_count": 38,
   "outputs": [],
   "source": [
    "#Apply TFIDF Vectoriser\n",
    "from sklearn.feature_extraction.text import TfidfVectorizer\n",
    "vect = TfidfVectorizer()\n",
    "x_train_v = vect.fit_transform(x_train)\n",
    "x_test_v = vect.transform(x_test)"
   ],
   "metadata": {
    "collapsed": false,
    "ExecuteTime": {
     "end_time": "2023-08-21T21:01:28.163906Z",
     "start_time": "2023-08-21T21:01:28.017269300Z"
    }
   },
   "id": "3cd23546888fed5d"
  },
  {
   "cell_type": "code",
   "execution_count": 39,
   "outputs": [],
   "source": [
    "#7. Apply a Classifier/ Regressor or CLusterer\n",
    "from sklearn.svm import SVC\n",
    "model = SVC()"
   ],
   "metadata": {
    "collapsed": false,
    "ExecuteTime": {
     "end_time": "2023-08-21T21:02:59.319111300Z",
     "start_time": "2023-08-21T21:02:59.179738500Z"
    }
   },
   "id": "24d1029d20e785a3"
  },
  {
   "cell_type": "code",
   "execution_count": 43,
   "outputs": [
    {
     "data": {
      "text/plain": "SVC()",
      "text/html": "<style>#sk-container-id-1 {color: black;}#sk-container-id-1 pre{padding: 0;}#sk-container-id-1 div.sk-toggleable {background-color: white;}#sk-container-id-1 label.sk-toggleable__label {cursor: pointer;display: block;width: 100%;margin-bottom: 0;padding: 0.3em;box-sizing: border-box;text-align: center;}#sk-container-id-1 label.sk-toggleable__label-arrow:before {content: \"▸\";float: left;margin-right: 0.25em;color: #696969;}#sk-container-id-1 label.sk-toggleable__label-arrow:hover:before {color: black;}#sk-container-id-1 div.sk-estimator:hover label.sk-toggleable__label-arrow:before {color: black;}#sk-container-id-1 div.sk-toggleable__content {max-height: 0;max-width: 0;overflow: hidden;text-align: left;background-color: #f0f8ff;}#sk-container-id-1 div.sk-toggleable__content pre {margin: 0.2em;color: black;border-radius: 0.25em;background-color: #f0f8ff;}#sk-container-id-1 input.sk-toggleable__control:checked~div.sk-toggleable__content {max-height: 200px;max-width: 100%;overflow: auto;}#sk-container-id-1 input.sk-toggleable__control:checked~label.sk-toggleable__label-arrow:before {content: \"▾\";}#sk-container-id-1 div.sk-estimator input.sk-toggleable__control:checked~label.sk-toggleable__label {background-color: #d4ebff;}#sk-container-id-1 div.sk-label input.sk-toggleable__control:checked~label.sk-toggleable__label {background-color: #d4ebff;}#sk-container-id-1 input.sk-hidden--visually {border: 0;clip: rect(1px 1px 1px 1px);clip: rect(1px, 1px, 1px, 1px);height: 1px;margin: -1px;overflow: hidden;padding: 0;position: absolute;width: 1px;}#sk-container-id-1 div.sk-estimator {font-family: monospace;background-color: #f0f8ff;border: 1px dotted black;border-radius: 0.25em;box-sizing: border-box;margin-bottom: 0.5em;}#sk-container-id-1 div.sk-estimator:hover {background-color: #d4ebff;}#sk-container-id-1 div.sk-parallel-item::after {content: \"\";width: 100%;border-bottom: 1px solid gray;flex-grow: 1;}#sk-container-id-1 div.sk-label:hover label.sk-toggleable__label {background-color: #d4ebff;}#sk-container-id-1 div.sk-serial::before {content: \"\";position: absolute;border-left: 1px solid gray;box-sizing: border-box;top: 0;bottom: 0;left: 50%;z-index: 0;}#sk-container-id-1 div.sk-serial {display: flex;flex-direction: column;align-items: center;background-color: white;padding-right: 0.2em;padding-left: 0.2em;position: relative;}#sk-container-id-1 div.sk-item {position: relative;z-index: 1;}#sk-container-id-1 div.sk-parallel {display: flex;align-items: stretch;justify-content: center;background-color: white;position: relative;}#sk-container-id-1 div.sk-item::before, #sk-container-id-1 div.sk-parallel-item::before {content: \"\";position: absolute;border-left: 1px solid gray;box-sizing: border-box;top: 0;bottom: 0;left: 50%;z-index: -1;}#sk-container-id-1 div.sk-parallel-item {display: flex;flex-direction: column;z-index: 1;position: relative;background-color: white;}#sk-container-id-1 div.sk-parallel-item:first-child::after {align-self: flex-end;width: 50%;}#sk-container-id-1 div.sk-parallel-item:last-child::after {align-self: flex-start;width: 50%;}#sk-container-id-1 div.sk-parallel-item:only-child::after {width: 0;}#sk-container-id-1 div.sk-dashed-wrapped {border: 1px dashed gray;margin: 0 0.4em 0.5em 0.4em;box-sizing: border-box;padding-bottom: 0.4em;background-color: white;}#sk-container-id-1 div.sk-label label {font-family: monospace;font-weight: bold;display: inline-block;line-height: 1.2em;}#sk-container-id-1 div.sk-label-container {text-align: center;}#sk-container-id-1 div.sk-container {/* jupyter's `normalize.less` sets `[hidden] { display: none; }` but bootstrap.min.css set `[hidden] { display: none !important; }` so we also need the `!important` here to be able to override the default hidden behavior on the sphinx rendered scikit-learn.org. See: https://github.com/scikit-learn/scikit-learn/issues/21755 */display: inline-block !important;position: relative;}#sk-container-id-1 div.sk-text-repr-fallback {display: none;}</style><div id=\"sk-container-id-1\" class=\"sk-top-container\"><div class=\"sk-text-repr-fallback\"><pre>SVC()</pre><b>In a Jupyter environment, please rerun this cell to show the HTML representation or trust the notebook. <br />On GitHub, the HTML representation is unable to render, please try loading this page with nbviewer.org.</b></div><div class=\"sk-container\" hidden><div class=\"sk-item\"><div class=\"sk-estimator sk-toggleable\"><input class=\"sk-toggleable__control sk-hidden--visually\" id=\"sk-estimator-id-1\" type=\"checkbox\" checked><label for=\"sk-estimator-id-1\" class=\"sk-toggleable__label sk-toggleable__label-arrow\">SVC</label><div class=\"sk-toggleable__content\"><pre>SVC()</pre></div></div></div></div></div>"
     },
     "execution_count": 43,
     "metadata": {},
     "output_type": "execute_result"
    }
   ],
   "source": [
    "#8. Model Fitting\n",
    "model.fit(x_train_v,y_train) # We are training the model here"
   ],
   "metadata": {
    "collapsed": false,
    "ExecuteTime": {
     "end_time": "2023-08-21T21:03:55.840751400Z",
     "start_time": "2023-08-21T21:03:54.510530100Z"
    }
   },
   "id": "38963e1218f86853"
  },
  {
   "cell_type": "code",
   "execution_count": 45,
   "outputs": [
    {
     "name": "stdout",
     "output_type": "stream",
     "text": [
      "['ham' 'spam' 'ham' ... 'ham' 'ham' 'ham']\n"
     ]
    }
   ],
   "source": [
    "#9. Predicting the Output\n",
    "y_pred = model.predict(x_test_v)\n",
    "print(y_pred)"
   ],
   "metadata": {
    "collapsed": false,
    "ExecuteTime": {
     "end_time": "2023-08-21T21:05:56.270324800Z",
     "start_time": "2023-08-21T21:05:55.910420Z"
    }
   },
   "id": "d85c71beb03a6b01"
  },
  {
   "cell_type": "code",
   "execution_count": 46,
   "outputs": [
    {
     "name": "stdout",
     "output_type": "stream",
     "text": [
      "['ham' 'spam' 'ham' ... 'spam' 'ham' 'ham']\n"
     ]
    }
   ],
   "source": [
    "print(y_test)"
   ],
   "metadata": {
    "collapsed": false,
    "ExecuteTime": {
     "end_time": "2023-08-21T21:06:39.255411100Z",
     "start_time": "2023-08-21T21:06:39.240117200Z"
    }
   },
   "id": "e73718cc858727a"
  },
  {
   "cell_type": "code",
   "execution_count": 47,
   "outputs": [
    {
     "data": {
      "text/plain": "98.56424982053123"
     },
     "execution_count": 47,
     "metadata": {},
     "output_type": "execute_result"
    }
   ],
   "source": [
    "#10. Accuracy\n",
    "from sklearn.metrics import accuracy_score\n",
    "accuracy_score(y_pred,y_test)*100"
   ],
   "metadata": {
    "collapsed": false,
    "ExecuteTime": {
     "end_time": "2023-08-21T21:07:23.409795300Z",
     "start_time": "2023-08-21T21:07:23.390111600Z"
    }
   },
   "id": "f398e233caea7660"
  },
  {
   "cell_type": "code",
   "execution_count": 61,
   "outputs": [
    {
     "name": "stdout",
     "output_type": "stream",
     "text": [
      "I'm gonna be home soon and i don't want to talk about this stuff anymore tonight, k? I've cried enough today.\n"
     ]
    }
   ],
   "source": [
    "#11. Individual Prediction\n",
    "a = df['message'][10]\n",
    "print(a)"
   ],
   "metadata": {
    "collapsed": false,
    "ExecuteTime": {
     "end_time": "2023-08-21T21:11:51.690348Z",
     "start_time": "2023-08-21T21:11:51.662926Z"
    }
   },
   "id": "f32a9067c4956f30"
  },
  {
   "cell_type": "code",
   "execution_count": 62,
   "outputs": [
    {
     "data": {
      "text/plain": "array(['ham'], dtype=object)"
     },
     "execution_count": 62,
     "metadata": {},
     "output_type": "execute_result"
    }
   ],
   "source": [
    "a = vect.transform([a])\n",
    "model.predict(a)"
   ],
   "metadata": {
    "collapsed": false,
    "ExecuteTime": {
     "end_time": "2023-08-21T21:11:53.719740900Z",
     "start_time": "2023-08-21T21:11:53.691186300Z"
    }
   },
   "id": "93d45b640934623e"
  },
  {
   "cell_type": "code",
   "execution_count": 52,
   "outputs": [
    {
     "name": "stdout",
     "output_type": "stream",
     "text": [
      "URGENT! You have won a 1 week FREE membership in our £100,000 Prize Jackpot! Txt the word: CLAIM to No: 81010 T&C www.dbuk.net LCCLTD POBOX 4403LDNW1A7RW18\n"
     ]
    }
   ],
   "source": [
    "b = df['message'][12]\n",
    "print(b)"
   ],
   "metadata": {
    "collapsed": false,
    "ExecuteTime": {
     "end_time": "2023-08-21T21:10:28.956948200Z",
     "start_time": "2023-08-21T21:10:28.909298800Z"
    }
   },
   "id": "4b5e64b6ab9eb5f6"
  },
  {
   "cell_type": "code",
   "execution_count": 57,
   "outputs": [
    {
     "data": {
      "text/plain": "array(['spam'], dtype=object)"
     },
     "execution_count": 57,
     "metadata": {},
     "output_type": "execute_result"
    }
   ],
   "source": [
    "b = vect.transform([b])\n",
    "model.predict(b)"
   ],
   "metadata": {
    "collapsed": false,
    "ExecuteTime": {
     "end_time": "2023-08-21T21:11:23.590382200Z",
     "start_time": "2023-08-21T21:11:23.577357600Z"
    }
   },
   "id": "ce452e4b94c4457e"
  },
  {
   "cell_type": "code",
   "execution_count": 63,
   "outputs": [
    {
     "name": "stdout",
     "output_type": "stream",
     "text": [
      "Thanks for your subscription to Ringtone UK your mobile will be charged £5/month Please confirm by replying YES or NO. If you reply NO you will not be charged\n"
     ]
    }
   ],
   "source": [
    "c = df['message'][34]\n",
    "print(c)"
   ],
   "metadata": {
    "collapsed": false,
    "ExecuteTime": {
     "end_time": "2023-08-21T21:12:20.963915500Z",
     "start_time": "2023-08-21T21:12:20.944194900Z"
    }
   },
   "id": "99bc7541fac77a65"
  },
  {
   "cell_type": "code",
   "execution_count": 64,
   "outputs": [
    {
     "data": {
      "text/plain": "array(['spam'], dtype=object)"
     },
     "execution_count": 64,
     "metadata": {},
     "output_type": "execute_result"
    }
   ],
   "source": [
    "c = vect.transform([c])\n",
    "model.predict(c)"
   ],
   "metadata": {
    "collapsed": false,
    "ExecuteTime": {
     "end_time": "2023-08-21T21:12:47.204015700Z",
     "start_time": "2023-08-21T21:12:47.155272Z"
    }
   },
   "id": "4dafb1603744dcd9"
  },
  {
   "cell_type": "code",
   "execution_count": 72,
   "outputs": [
    {
     "name": "stdout",
     "output_type": "stream",
     "text": [
      "Win free tickets today\n"
     ]
    }
   ],
   "source": [
    "#Evaluate a Custom Message\n",
    "d = 'Win free tickets today'\n",
    "print(d)"
   ],
   "metadata": {
    "collapsed": false,
    "ExecuteTime": {
     "end_time": "2023-08-21T21:15:57.723334300Z",
     "start_time": "2023-08-21T21:15:57.706343800Z"
    }
   },
   "id": "e547cf588821b6aa"
  },
  {
   "cell_type": "code",
   "execution_count": 73,
   "outputs": [
    {
     "data": {
      "text/plain": "array(['spam'], dtype=object)"
     },
     "execution_count": 73,
     "metadata": {},
     "output_type": "execute_result"
    }
   ],
   "source": [
    "d = vect.transform([d])\n",
    "model.predict(d)"
   ],
   "metadata": {
    "collapsed": false,
    "ExecuteTime": {
     "end_time": "2023-08-21T21:15:59.609752900Z",
     "start_time": "2023-08-21T21:15:59.592078900Z"
    }
   },
   "id": "5a7b987f228d383e"
  }
 ],
 "metadata": {
  "kernelspec": {
   "display_name": "Python 3",
   "language": "python",
   "name": "python3"
  },
  "language_info": {
   "codemirror_mode": {
    "name": "ipython",
    "version": 2
   },
   "file_extension": ".py",
   "mimetype": "text/x-python",
   "name": "python",
   "nbconvert_exporter": "python",
   "pygments_lexer": "ipython2",
   "version": "2.7.6"
  }
 },
 "nbformat": 4,
 "nbformat_minor": 5
}
