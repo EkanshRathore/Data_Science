{
 "cells": [
  {
   "cell_type": "code",
   "execution_count": 0,
   "id": "f349c347b9a48b16",
   "metadata": {
    "collapsed": true
   },
   "outputs": [],
   "source": [
    "#Logistic Regression\n",
    "#DatasetName = Iris flower dataset\n"
   ]
  },
  {
   "cell_type": "code",
   "execution_count": 6,
   "outputs": [
    {
     "name": "stdout",
     "output_type": "stream",
     "text": [
      "     sepal_length  sepal_width  petal_length  petal_width         species\n",
      "0             5.1          3.5           1.4          0.2     Iris-setosa\n",
      "1             4.9          3.0           1.4          0.2     Iris-setosa\n",
      "2             4.7          3.2           1.3          0.2     Iris-setosa\n",
      "3             4.6          3.1           1.5          0.2     Iris-setosa\n",
      "4             5.0          3.6           1.4          0.2     Iris-setosa\n",
      "..            ...          ...           ...          ...             ...\n",
      "145           6.7          3.0           5.2          2.3  Iris-virginica\n",
      "146           6.3          2.5           5.0          1.9  Iris-virginica\n",
      "147           6.5          3.0           5.2          2.0  Iris-virginica\n",
      "148           6.2          3.4           5.4          2.3  Iris-virginica\n",
      "149           5.9          3.0           5.1          1.8  Iris-virginica\n",
      "\n",
      "[150 rows x 5 columns]\n"
     ]
    }
   ],
   "source": [
    "#1.Dataset = https://raw.githubusercontent.com/ameenmanna8824/DATASETS/main/IRIS.csv\n",
    "import pandas as pd\n",
    "df = pd.read_csv('https://raw.githubusercontent.com/ameenmanna8824/DATASETS/main/IRIS.csv')\n",
    "print(df)"
   ],
   "metadata": {
    "collapsed": false,
    "ExecuteTime": {
     "end_time": "2023-08-08T18:19:45.201123800Z",
     "start_time": "2023-08-08T18:19:44.941700900Z"
    }
   },
   "id": "initial_id"
  },
  {
   "cell_type": "code",
   "execution_count": 2,
   "outputs": [
    {
     "name": "stdout",
     "output_type": "stream",
     "text": [
      "<class 'pandas.core.frame.DataFrame'>\n",
      "RangeIndex: 150 entries, 0 to 149\n",
      "Data columns (total 5 columns):\n",
      " #   Column        Non-Null Count  Dtype  \n",
      "---  ------        --------------  -----  \n",
      " 0   sepal_length  150 non-null    float64\n",
      " 1   sepal_width   150 non-null    float64\n",
      " 2   petal_length  150 non-null    float64\n",
      " 3   petal_width   150 non-null    float64\n",
      " 4   species       150 non-null    object \n",
      "dtypes: float64(4), object(1)\n",
      "memory usage: 6.0+ KB\n"
     ]
    }
   ],
   "source": [
    "#2. PRE-PROCESSING\n",
    "df.info()"
   ],
   "metadata": {
    "collapsed": false,
    "ExecuteTime": {
     "end_time": "2023-08-08T18:18:42.886517100Z",
     "start_time": "2023-08-08T18:18:42.838965100Z"
    }
   },
   "id": "2242e4aafd0d2cd2"
  },
  {
   "cell_type": "code",
   "execution_count": 3,
   "outputs": [
    {
     "data": {
      "text/plain": "       sepal_length  sepal_width  petal_length  petal_width\ncount    150.000000   150.000000    150.000000   150.000000\nmean       5.843333     3.054000      3.758667     1.198667\nstd        0.828066     0.433594      1.764420     0.763161\nmin        4.300000     2.000000      1.000000     0.100000\n25%        5.100000     2.800000      1.600000     0.300000\n50%        5.800000     3.000000      4.350000     1.300000\n75%        6.400000     3.300000      5.100000     1.800000\nmax        7.900000     4.400000      6.900000     2.500000",
      "text/html": "<div>\n<style scoped>\n    .dataframe tbody tr th:only-of-type {\n        vertical-align: middle;\n    }\n\n    .dataframe tbody tr th {\n        vertical-align: top;\n    }\n\n    .dataframe thead th {\n        text-align: right;\n    }\n</style>\n<table border=\"1\" class=\"dataframe\">\n  <thead>\n    <tr style=\"text-align: right;\">\n      <th></th>\n      <th>sepal_length</th>\n      <th>sepal_width</th>\n      <th>petal_length</th>\n      <th>petal_width</th>\n    </tr>\n  </thead>\n  <tbody>\n    <tr>\n      <th>count</th>\n      <td>150.000000</td>\n      <td>150.000000</td>\n      <td>150.000000</td>\n      <td>150.000000</td>\n    </tr>\n    <tr>\n      <th>mean</th>\n      <td>5.843333</td>\n      <td>3.054000</td>\n      <td>3.758667</td>\n      <td>1.198667</td>\n    </tr>\n    <tr>\n      <th>std</th>\n      <td>0.828066</td>\n      <td>0.433594</td>\n      <td>1.764420</td>\n      <td>0.763161</td>\n    </tr>\n    <tr>\n      <th>min</th>\n      <td>4.300000</td>\n      <td>2.000000</td>\n      <td>1.000000</td>\n      <td>0.100000</td>\n    </tr>\n    <tr>\n      <th>25%</th>\n      <td>5.100000</td>\n      <td>2.800000</td>\n      <td>1.600000</td>\n      <td>0.300000</td>\n    </tr>\n    <tr>\n      <th>50%</th>\n      <td>5.800000</td>\n      <td>3.000000</td>\n      <td>4.350000</td>\n      <td>1.300000</td>\n    </tr>\n    <tr>\n      <th>75%</th>\n      <td>6.400000</td>\n      <td>3.300000</td>\n      <td>5.100000</td>\n      <td>1.800000</td>\n    </tr>\n    <tr>\n      <th>max</th>\n      <td>7.900000</td>\n      <td>4.400000</td>\n      <td>6.900000</td>\n      <td>2.500000</td>\n    </tr>\n  </tbody>\n</table>\n</div>"
     },
     "execution_count": 3,
     "metadata": {},
     "output_type": "execute_result"
    }
   ],
   "source": [
    "df.describe()"
   ],
   "metadata": {
    "collapsed": false,
    "ExecuteTime": {
     "end_time": "2023-08-08T18:18:45.001424Z",
     "start_time": "2023-08-08T18:18:44.953381400Z"
    }
   },
   "id": "6ae0e2319cb76945"
  },
  {
   "cell_type": "code",
   "execution_count": 4,
   "outputs": [
    {
     "data": {
      "text/plain": "750"
     },
     "execution_count": 4,
     "metadata": {},
     "output_type": "execute_result"
    }
   ],
   "source": [
    "df.size"
   ],
   "metadata": {
    "collapsed": false,
    "ExecuteTime": {
     "end_time": "2023-08-08T18:18:47.503160500Z",
     "start_time": "2023-08-08T18:18:47.486123200Z"
    }
   },
   "id": "50309f4b02bbbb9f"
  },
  {
   "cell_type": "code",
   "execution_count": 38,
   "outputs": [
    {
     "data": {
      "text/plain": "species\nIris-setosa        50\nIris-versicolor    50\nIris-virginica     50\nName: count, dtype: int64"
     },
     "execution_count": 38,
     "metadata": {},
     "output_type": "execute_result"
    }
   ],
   "source": [
    "#Let's determine the input and output of the following Dataset\n",
    "#iris-setosa\n",
    "#iris-versicolor\n",
    "#iris-virginica\n",
    "#sepal_length\n",
    "#sepal_width\n",
    "#petal_length = Input\n",
    "#petal_width =  Input\n",
    "#species = Output\n",
    "df['species'].value_counts()"
   ],
   "metadata": {
    "collapsed": false,
    "ExecuteTime": {
     "end_time": "2023-08-08T18:49:47.281096700Z",
     "start_time": "2023-08-08T18:49:47.251567900Z"
    }
   },
   "id": "3e0cc5242c8163bb"
  },
  {
   "cell_type": "code",
   "execution_count": null,
   "outputs": [],
   "source": [
    "#3. Data Visualisation = We cannot perform visualization for classification based model"
   ],
   "metadata": {
    "collapsed": false
   },
   "id": "dc80e824239f3219"
  },
  {
   "cell_type": "code",
   "execution_count": 39,
   "outputs": [
    {
     "name": "stdout",
     "output_type": "stream",
     "text": [
      "[[5.1 3.5 1.4 0.2]\n",
      " [4.9 3.  1.4 0.2]\n",
      " [4.7 3.2 1.3 0.2]\n",
      " [4.6 3.1 1.5 0.2]\n",
      " [5.  3.6 1.4 0.2]\n",
      " [5.4 3.9 1.7 0.4]\n",
      " [4.6 3.4 1.4 0.3]\n",
      " [5.  3.4 1.5 0.2]\n",
      " [4.4 2.9 1.4 0.2]\n",
      " [4.9 3.1 1.5 0.1]\n",
      " [5.4 3.7 1.5 0.2]\n",
      " [4.8 3.4 1.6 0.2]\n",
      " [4.8 3.  1.4 0.1]\n",
      " [4.3 3.  1.1 0.1]\n",
      " [5.8 4.  1.2 0.2]\n",
      " [5.7 4.4 1.5 0.4]\n",
      " [5.4 3.9 1.3 0.4]\n",
      " [5.1 3.5 1.4 0.3]\n",
      " [5.7 3.8 1.7 0.3]\n",
      " [5.1 3.8 1.5 0.3]\n",
      " [5.4 3.4 1.7 0.2]\n",
      " [5.1 3.7 1.5 0.4]\n",
      " [4.6 3.6 1.  0.2]\n",
      " [5.1 3.3 1.7 0.5]\n",
      " [4.8 3.4 1.9 0.2]\n",
      " [5.  3.  1.6 0.2]\n",
      " [5.  3.4 1.6 0.4]\n",
      " [5.2 3.5 1.5 0.2]\n",
      " [5.2 3.4 1.4 0.2]\n",
      " [4.7 3.2 1.6 0.2]\n",
      " [4.8 3.1 1.6 0.2]\n",
      " [5.4 3.4 1.5 0.4]\n",
      " [5.2 4.1 1.5 0.1]\n",
      " [5.5 4.2 1.4 0.2]\n",
      " [4.9 3.1 1.5 0.1]\n",
      " [5.  3.2 1.2 0.2]\n",
      " [5.5 3.5 1.3 0.2]\n",
      " [4.9 3.1 1.5 0.1]\n",
      " [4.4 3.  1.3 0.2]\n",
      " [5.1 3.4 1.5 0.2]\n",
      " [5.  3.5 1.3 0.3]\n",
      " [4.5 2.3 1.3 0.3]\n",
      " [4.4 3.2 1.3 0.2]\n",
      " [5.  3.5 1.6 0.6]\n",
      " [5.1 3.8 1.9 0.4]\n",
      " [4.8 3.  1.4 0.3]\n",
      " [5.1 3.8 1.6 0.2]\n",
      " [4.6 3.2 1.4 0.2]\n",
      " [5.3 3.7 1.5 0.2]\n",
      " [5.  3.3 1.4 0.2]\n",
      " [7.  3.2 4.7 1.4]\n",
      " [6.4 3.2 4.5 1.5]\n",
      " [6.9 3.1 4.9 1.5]\n",
      " [5.5 2.3 4.  1.3]\n",
      " [6.5 2.8 4.6 1.5]\n",
      " [5.7 2.8 4.5 1.3]\n",
      " [6.3 3.3 4.7 1.6]\n",
      " [4.9 2.4 3.3 1. ]\n",
      " [6.6 2.9 4.6 1.3]\n",
      " [5.2 2.7 3.9 1.4]\n",
      " [5.  2.  3.5 1. ]\n",
      " [5.9 3.  4.2 1.5]\n",
      " [6.  2.2 4.  1. ]\n",
      " [6.1 2.9 4.7 1.4]\n",
      " [5.6 2.9 3.6 1.3]\n",
      " [6.7 3.1 4.4 1.4]\n",
      " [5.6 3.  4.5 1.5]\n",
      " [5.8 2.7 4.1 1. ]\n",
      " [6.2 2.2 4.5 1.5]\n",
      " [5.6 2.5 3.9 1.1]\n",
      " [5.9 3.2 4.8 1.8]\n",
      " [6.1 2.8 4.  1.3]\n",
      " [6.3 2.5 4.9 1.5]\n",
      " [6.1 2.8 4.7 1.2]\n",
      " [6.4 2.9 4.3 1.3]\n",
      " [6.6 3.  4.4 1.4]\n",
      " [6.8 2.8 4.8 1.4]\n",
      " [6.7 3.  5.  1.7]\n",
      " [6.  2.9 4.5 1.5]\n",
      " [5.7 2.6 3.5 1. ]\n",
      " [5.5 2.4 3.8 1.1]\n",
      " [5.5 2.4 3.7 1. ]\n",
      " [5.8 2.7 3.9 1.2]\n",
      " [6.  2.7 5.1 1.6]\n",
      " [5.4 3.  4.5 1.5]\n",
      " [6.  3.4 4.5 1.6]\n",
      " [6.7 3.1 4.7 1.5]\n",
      " [6.3 2.3 4.4 1.3]\n",
      " [5.6 3.  4.1 1.3]\n",
      " [5.5 2.5 4.  1.3]\n",
      " [5.5 2.6 4.4 1.2]\n",
      " [6.1 3.  4.6 1.4]\n",
      " [5.8 2.6 4.  1.2]\n",
      " [5.  2.3 3.3 1. ]\n",
      " [5.6 2.7 4.2 1.3]\n",
      " [5.7 3.  4.2 1.2]\n",
      " [5.7 2.9 4.2 1.3]\n",
      " [6.2 2.9 4.3 1.3]\n",
      " [5.1 2.5 3.  1.1]\n",
      " [5.7 2.8 4.1 1.3]\n",
      " [6.3 3.3 6.  2.5]\n",
      " [5.8 2.7 5.1 1.9]\n",
      " [7.1 3.  5.9 2.1]\n",
      " [6.3 2.9 5.6 1.8]\n",
      " [6.5 3.  5.8 2.2]\n",
      " [7.6 3.  6.6 2.1]\n",
      " [4.9 2.5 4.5 1.7]\n",
      " [7.3 2.9 6.3 1.8]\n",
      " [6.7 2.5 5.8 1.8]\n",
      " [7.2 3.6 6.1 2.5]\n",
      " [6.5 3.2 5.1 2. ]\n",
      " [6.4 2.7 5.3 1.9]\n",
      " [6.8 3.  5.5 2.1]\n",
      " [5.7 2.5 5.  2. ]\n",
      " [5.8 2.8 5.1 2.4]\n",
      " [6.4 3.2 5.3 2.3]\n",
      " [6.5 3.  5.5 1.8]\n",
      " [7.7 3.8 6.7 2.2]\n",
      " [7.7 2.6 6.9 2.3]\n",
      " [6.  2.2 5.  1.5]\n",
      " [6.9 3.2 5.7 2.3]\n",
      " [5.6 2.8 4.9 2. ]\n",
      " [7.7 2.8 6.7 2. ]\n",
      " [6.3 2.7 4.9 1.8]\n",
      " [6.7 3.3 5.7 2.1]\n",
      " [7.2 3.2 6.  1.8]\n",
      " [6.2 2.8 4.8 1.8]\n",
      " [6.1 3.  4.9 1.8]\n",
      " [6.4 2.8 5.6 2.1]\n",
      " [7.2 3.  5.8 1.6]\n",
      " [7.4 2.8 6.1 1.9]\n",
      " [7.9 3.8 6.4 2. ]\n",
      " [6.4 2.8 5.6 2.2]\n",
      " [6.3 2.8 5.1 1.5]\n",
      " [6.1 2.6 5.6 1.4]\n",
      " [7.7 3.  6.1 2.3]\n",
      " [6.3 3.4 5.6 2.4]\n",
      " [6.4 3.1 5.5 1.8]\n",
      " [6.  3.  4.8 1.8]\n",
      " [6.9 3.1 5.4 2.1]\n",
      " [6.7 3.1 5.6 2.4]\n",
      " [6.9 3.1 5.1 2.3]\n",
      " [5.8 2.7 5.1 1.9]\n",
      " [6.8 3.2 5.9 2.3]\n",
      " [6.7 3.3 5.7 2.5]\n",
      " [6.7 3.  5.2 2.3]\n",
      " [6.3 2.5 5.  1.9]\n",
      " [6.5 3.  5.2 2. ]\n",
      " [6.2 3.4 5.4 2.3]\n",
      " [5.9 3.  5.1 1.8]]\n"
     ]
    }
   ],
   "source": [
    "#4. Divide the data into inputs and outputs\n",
    "# For x\n",
    "x = df.iloc[:,0:4].values\n",
    "print(x)"
   ],
   "metadata": {
    "collapsed": false,
    "ExecuteTime": {
     "end_time": "2023-08-08T18:49:56.622015700Z",
     "start_time": "2023-08-08T18:49:56.600016300Z"
    }
   },
   "id": "8b8e1da4f2815e8"
  },
  {
   "cell_type": "markdown",
   "source": [],
   "metadata": {
    "collapsed": false
   },
   "id": "affd79b43269bee7"
  },
  {
   "cell_type": "code",
   "execution_count": 40,
   "outputs": [
    {
     "name": "stdout",
     "output_type": "stream",
     "text": [
      "['Iris-setosa' 'Iris-setosa' 'Iris-setosa' 'Iris-setosa' 'Iris-setosa'\n",
      " 'Iris-setosa' 'Iris-setosa' 'Iris-setosa' 'Iris-setosa' 'Iris-setosa'\n",
      " 'Iris-setosa' 'Iris-setosa' 'Iris-setosa' 'Iris-setosa' 'Iris-setosa'\n",
      " 'Iris-setosa' 'Iris-setosa' 'Iris-setosa' 'Iris-setosa' 'Iris-setosa'\n",
      " 'Iris-setosa' 'Iris-setosa' 'Iris-setosa' 'Iris-setosa' 'Iris-setosa'\n",
      " 'Iris-setosa' 'Iris-setosa' 'Iris-setosa' 'Iris-setosa' 'Iris-setosa'\n",
      " 'Iris-setosa' 'Iris-setosa' 'Iris-setosa' 'Iris-setosa' 'Iris-setosa'\n",
      " 'Iris-setosa' 'Iris-setosa' 'Iris-setosa' 'Iris-setosa' 'Iris-setosa'\n",
      " 'Iris-setosa' 'Iris-setosa' 'Iris-setosa' 'Iris-setosa' 'Iris-setosa'\n",
      " 'Iris-setosa' 'Iris-setosa' 'Iris-setosa' 'Iris-setosa' 'Iris-setosa'\n",
      " 'Iris-versicolor' 'Iris-versicolor' 'Iris-versicolor' 'Iris-versicolor'\n",
      " 'Iris-versicolor' 'Iris-versicolor' 'Iris-versicolor' 'Iris-versicolor'\n",
      " 'Iris-versicolor' 'Iris-versicolor' 'Iris-versicolor' 'Iris-versicolor'\n",
      " 'Iris-versicolor' 'Iris-versicolor' 'Iris-versicolor' 'Iris-versicolor'\n",
      " 'Iris-versicolor' 'Iris-versicolor' 'Iris-versicolor' 'Iris-versicolor'\n",
      " 'Iris-versicolor' 'Iris-versicolor' 'Iris-versicolor' 'Iris-versicolor'\n",
      " 'Iris-versicolor' 'Iris-versicolor' 'Iris-versicolor' 'Iris-versicolor'\n",
      " 'Iris-versicolor' 'Iris-versicolor' 'Iris-versicolor' 'Iris-versicolor'\n",
      " 'Iris-versicolor' 'Iris-versicolor' 'Iris-versicolor' 'Iris-versicolor'\n",
      " 'Iris-versicolor' 'Iris-versicolor' 'Iris-versicolor' 'Iris-versicolor'\n",
      " 'Iris-versicolor' 'Iris-versicolor' 'Iris-versicolor' 'Iris-versicolor'\n",
      " 'Iris-versicolor' 'Iris-versicolor' 'Iris-versicolor' 'Iris-versicolor'\n",
      " 'Iris-versicolor' 'Iris-versicolor' 'Iris-virginica' 'Iris-virginica'\n",
      " 'Iris-virginica' 'Iris-virginica' 'Iris-virginica' 'Iris-virginica'\n",
      " 'Iris-virginica' 'Iris-virginica' 'Iris-virginica' 'Iris-virginica'\n",
      " 'Iris-virginica' 'Iris-virginica' 'Iris-virginica' 'Iris-virginica'\n",
      " 'Iris-virginica' 'Iris-virginica' 'Iris-virginica' 'Iris-virginica'\n",
      " 'Iris-virginica' 'Iris-virginica' 'Iris-virginica' 'Iris-virginica'\n",
      " 'Iris-virginica' 'Iris-virginica' 'Iris-virginica' 'Iris-virginica'\n",
      " 'Iris-virginica' 'Iris-virginica' 'Iris-virginica' 'Iris-virginica'\n",
      " 'Iris-virginica' 'Iris-virginica' 'Iris-virginica' 'Iris-virginica'\n",
      " 'Iris-virginica' 'Iris-virginica' 'Iris-virginica' 'Iris-virginica'\n",
      " 'Iris-virginica' 'Iris-virginica' 'Iris-virginica' 'Iris-virginica'\n",
      " 'Iris-virginica' 'Iris-virginica' 'Iris-virginica' 'Iris-virginica'\n",
      " 'Iris-virginica' 'Iris-virginica' 'Iris-virginica' 'Iris-virginica']\n"
     ]
    }
   ],
   "source": [
    "#For y\n",
    "y = df.iloc[:,4].values\n",
    "print(y)"
   ],
   "metadata": {
    "collapsed": false,
    "ExecuteTime": {
     "end_time": "2023-08-08T18:50:04.678750200Z",
     "start_time": "2023-08-08T18:50:04.662704600Z"
    }
   },
   "id": "8607ba2855c5501d"
  },
  {
   "cell_type": "code",
   "execution_count": 41,
   "outputs": [],
   "source": [
    "#5. For training and testing variables\n",
    "from sklearn.model_selection import train_test_split\n",
    "x_train , x_test , y_train , y_test = train_test_split(x,y,random_state= 0)"
   ],
   "metadata": {
    "collapsed": false,
    "ExecuteTime": {
     "end_time": "2023-08-08T18:50:08.913728Z",
     "start_time": "2023-08-08T18:50:08.904726600Z"
    }
   },
   "id": "7c1a4ede91b9b34e"
  },
  {
   "cell_type": "code",
   "execution_count": 42,
   "outputs": [
    {
     "name": "stdout",
     "output_type": "stream",
     "text": [
      "(150, 4)\n",
      "(38, 4)\n",
      "(112, 4)\n"
     ]
    }
   ],
   "source": [
    "print(x.shape)\n",
    "print(x_test.shape)\n",
    "print(x_train.shape)"
   ],
   "metadata": {
    "collapsed": false,
    "ExecuteTime": {
     "end_time": "2023-08-08T18:50:11.146640800Z",
     "start_time": "2023-08-08T18:50:11.135617100Z"
    }
   },
   "id": "109b16701c6e4cf8"
  },
  {
   "cell_type": "code",
   "execution_count": 43,
   "outputs": [
    {
     "name": "stdout",
     "output_type": "stream",
     "text": [
      "(150,)\n",
      "(38,)\n",
      "(112,)\n"
     ]
    }
   ],
   "source": [
    "print(y.shape)\n",
    "print(y_test.shape)\n",
    "print(y_train.shape)"
   ],
   "metadata": {
    "collapsed": false,
    "ExecuteTime": {
     "end_time": "2023-08-08T18:50:13.692571Z",
     "start_time": "2023-08-08T18:50:13.680577400Z"
    }
   },
   "id": "c58671ea6d2b78a2"
  },
  {
   "cell_type": "code",
   "execution_count": 44,
   "outputs": [
    {
     "name": "stdout",
     "output_type": "stream",
     "text": [
      "[[0.48275862 0.3        0.77358491 0.95833333]\n",
      " [0.55172414 0.         0.56603774 0.375     ]\n",
      " [0.37931034 1.         0.0754717  0.04166667]\n",
      " [1.         0.35       1.         0.70833333]\n",
      " [0.20689655 0.6        0.09433962 0.04166667]\n",
      " [0.65517241 0.55       0.94339623 1.        ]\n",
      " [0.20689655 0.65       0.05660377 0.08333333]\n",
      " [0.79310345 0.45       0.69811321 0.58333333]\n",
      " [0.82758621 0.3        0.71698113 0.54166667]\n",
      " [0.5862069  0.3        0.56603774 0.5       ]\n",
      " [0.5862069  0.2        0.86792453 0.54166667]\n",
      " [0.68965517 0.5        0.66037736 0.58333333]\n",
      " [0.5862069  0.3        0.69811321 0.45833333]\n",
      " [0.72413793 0.3        0.67924528 0.58333333]\n",
      " [0.5862069  0.35       0.69811321 0.54166667]\n",
      " [0.17241379 0.45       0.09433962 0.        ]\n",
      " [0.55172414 0.35       0.66037736 0.58333333]\n",
      " [0.37931034 0.2        0.64150943 0.45833333]\n",
      " [0.13793103 0.4        0.0754717  0.08333333]\n",
      " [0.34482759 0.85       0.05660377 0.125     ]\n",
      " [0.4137931  0.3        0.73584906 0.79166667]\n",
      " [0.4137931  0.4        0.66037736 0.58333333]\n",
      " [0.13793103 0.6        0.16981132 0.04166667]\n",
      " [0.         0.35       0.0754717  0.04166667]\n",
      " [0.62068966 0.3        0.71698113 0.70833333]\n",
      " [0.06896552 0.7        0.         0.04166667]\n",
      " [0.24137931 0.8        0.16981132 0.125     ]\n",
      " [0.62068966 0.35       0.62264151 0.5       ]\n",
      " [0.20689655 0.05       0.43396226 0.375     ]\n",
      " [0.20689655 0.6        0.11320755 0.125     ]\n",
      " [0.68965517 0.45       0.8490566  0.70833333]\n",
      " [0.34482759 0.4        0.66037736 0.58333333]\n",
      " [0.27586207 0.65       0.09433962 0.04166667]\n",
      " [0.5862069  0.4        0.73584906 0.70833333]\n",
      " [0.68965517 0.3        0.86792453 0.875     ]\n",
      " [0.27586207 0.25       0.54716981 0.54166667]\n",
      " [0.44827586 0.8        0.13207547 0.08333333]\n",
      " [0.55172414 0.25       0.77358491 0.625     ]]\n",
      "[[0.44444444 0.41666667 0.53448276 0.58333333]\n",
      " [0.41666667 0.25       0.5        0.45833333]\n",
      " [0.69444444 0.41666667 0.75862069 0.83333333]\n",
      " [0.11111111 0.5        0.03448276 0.04166667]\n",
      " [0.72222222 0.45833333 0.68965517 0.91666667]\n",
      " [0.19444444 0.625      0.0862069  0.20833333]\n",
      " [0.30555556 0.70833333 0.06896552 0.04166667]\n",
      " [0.19444444 0.         0.4137931  0.375     ]\n",
      " [0.61111111 0.41666667 0.75862069 0.70833333]\n",
      " [0.66666667 0.54166667 0.79310345 1.        ]\n",
      " [0.47222222 0.08333333 0.67241379 0.58333333]\n",
      " [0.66666667 0.20833333 0.81034483 0.70833333]\n",
      " [0.36111111 0.20833333 0.48275862 0.41666667]\n",
      " [0.94444444 0.41666667 0.86206897 0.91666667]\n",
      " [0.55555556 0.54166667 0.62068966 0.625     ]\n",
      " [0.33333333 0.16666667 0.46551724 0.41666667]\n",
      " [0.55555556 0.29166667 0.65517241 0.70833333]\n",
      " [0.55555556 0.33333333 0.68965517 0.58333333]\n",
      " [0.16666667 0.20833333 0.5862069  0.66666667]\n",
      " [0.55555556 0.20833333 0.67241379 0.75      ]\n",
      " [0.75       0.5        0.62068966 0.54166667]\n",
      " [0.61111111 0.41666667 0.70689655 0.79166667]\n",
      " [0.47222222 0.58333333 0.5862069  0.625     ]\n",
      " [0.13888889 0.45833333 0.0862069  0.04166667]\n",
      " [0.41666667 0.29166667 0.68965517 0.75      ]\n",
      " [0.36111111 0.29166667 0.53448276 0.5       ]\n",
      " [0.36111111 0.375      0.43103448 0.5       ]\n",
      " [0.33333333 0.20833333 0.5        0.5       ]\n",
      " [0.5        0.41666667 0.60344828 0.54166667]\n",
      " [0.80555556 0.5        0.84482759 0.70833333]\n",
      " [0.27777778 0.70833333 0.06896552 0.04166667]\n",
      " [0.         0.41666667 0.         0.        ]\n",
      " [0.58333333 0.29166667 0.72413793 0.75      ]\n",
      " [0.38888889 0.41666667 0.53448276 0.45833333]\n",
      " [0.30555556 0.58333333 0.10344828 0.04166667]\n",
      " [0.38888889 1.         0.06896552 0.125     ]\n",
      " [0.72222222 0.45833333 0.65517241 0.58333333]\n",
      " [0.08333333 0.45833333 0.06896552 0.04166667]\n",
      " [0.44444444 0.41666667 0.68965517 0.70833333]\n",
      " [0.22222222 0.20833333 0.32758621 0.41666667]\n",
      " [0.08333333 0.58333333 0.05172414 0.08333333]\n",
      " [0.52777778 0.08333333 0.5862069  0.58333333]\n",
      " [0.80555556 0.66666667 0.86206897 1.        ]\n",
      " [0.38888889 0.375      0.53448276 0.5       ]\n",
      " [0.13888889 0.41666667 0.05172414 0.        ]\n",
      " [0.77777778 0.41666667 0.82758621 0.83333333]\n",
      " [0.72222222 0.5        0.79310345 0.91666667]\n",
      " [0.61111111 0.41666667 0.81034483 0.875     ]\n",
      " [0.58333333 0.33333333 0.77586207 0.83333333]\n",
      " [0.22222222 0.75       0.0862069  0.04166667]\n",
      " [0.13888889 0.58333333 0.0862069  0.04166667]\n",
      " [0.61111111 0.5        0.68965517 0.79166667]\n",
      " [0.66666667 0.54166667 0.79310345 0.83333333]\n",
      " [0.05555556 0.125      0.03448276 0.08333333]\n",
      " [0.52777778 0.58333333 0.74137931 0.91666667]\n",
      " [0.16666667 0.41666667 0.05172414 0.04166667]\n",
      " [0.38888889 0.20833333 0.67241379 0.79166667]\n",
      " [0.72222222 0.45833333 0.74137931 0.83333333]\n",
      " [0.02777778 0.5        0.03448276 0.04166667]\n",
      " [0.19444444 0.66666667 0.05172414 0.04166667]\n",
      " [0.80555556 0.41666667 0.81034483 0.625     ]\n",
      " [0.22222222 0.625      0.05172414 0.08333333]\n",
      " [0.02777778 0.41666667 0.03448276 0.04166667]\n",
      " [0.30555556 0.79166667 0.10344828 0.125     ]\n",
      " [0.33333333 0.125      0.5        0.5       ]\n",
      " [0.69444444 0.5        0.82758621 0.91666667]\n",
      " [0.91666667 0.41666667 0.94827586 0.83333333]\n",
      " [0.22222222 0.625      0.05172414 0.04166667]\n",
      " [0.16666667 0.45833333 0.06896552 0.        ]\n",
      " [0.25       0.58333333 0.05172414 0.04166667]\n",
      " [0.38888889 0.33333333 0.5862069  0.5       ]\n",
      " [0.63888889 0.41666667 0.56896552 0.54166667]\n",
      " [0.19444444 0.5        0.01724138 0.04166667]\n",
      " [0.22222222 0.54166667 0.10344828 0.16666667]\n",
      " [0.58333333 0.375      0.55172414 0.5       ]\n",
      " [0.30555556 0.58333333 0.06896552 0.125     ]\n",
      " [0.94444444 0.25       1.         0.91666667]\n",
      " [0.16666667 0.16666667 0.37931034 0.375     ]\n",
      " [1.         0.75       0.9137931  0.79166667]\n",
      " [0.66666667 0.45833333 0.56896552 0.54166667]\n",
      " [0.25       0.875      0.06896552 0.        ]\n",
      " [0.47222222 0.41666667 0.63793103 0.70833333]\n",
      " [0.41666667 0.83333333 0.01724138 0.04166667]\n",
      " [0.94444444 0.33333333 0.96551724 0.79166667]\n",
      " [0.22222222 0.75       0.06896552 0.08333333]\n",
      " [0.11111111 0.5        0.0862069  0.04166667]\n",
      " [0.86111111 0.33333333 0.86206897 0.75      ]\n",
      " [0.19444444 0.54166667 0.05172414 0.04166667]\n",
      " [0.55555556 0.58333333 0.77586207 0.95833333]\n",
      " [0.38888889 0.33333333 0.51724138 0.5       ]\n",
      " [0.41666667 0.29166667 0.48275862 0.45833333]\n",
      " [0.38888889 0.25       0.4137931  0.375     ]\n",
      " [0.58333333 0.5        0.72413793 0.91666667]\n",
      " [0.66666667 0.41666667 0.70689655 0.91666667]\n",
      " [0.55555556 0.20833333 0.65517241 0.58333333]\n",
      " [0.66666667 0.41666667 0.67241379 0.66666667]\n",
      " [0.19444444 0.41666667 0.0862069  0.04166667]\n",
      " [0.33333333 0.16666667 0.44827586 0.375     ]\n",
      " [0.66666667 0.45833333 0.77586207 0.95833333]\n",
      " [0.41666667 0.29166667 0.68965517 0.75      ]\n",
      " [0.22222222 0.58333333 0.06896552 0.04166667]\n",
      " [0.63888889 0.375      0.60344828 0.5       ]\n",
      " [0.36111111 0.41666667 0.51724138 0.5       ]\n",
      " [0.44444444 0.5        0.63793103 0.70833333]\n",
      " [0.55555556 0.125      0.56896552 0.5       ]\n",
      " [0.33333333 0.625      0.03448276 0.04166667]\n",
      " [0.22222222 0.70833333 0.06896552 0.125     ]\n",
      " [0.16666667 0.45833333 0.06896552 0.        ]\n",
      " [0.55555556 0.375      0.77586207 0.70833333]\n",
      " [0.41666667 0.29166667 0.51724138 0.375     ]\n",
      " [0.94444444 0.75       0.96551724 0.875     ]\n",
      " [0.08333333 0.5        0.05172414 0.04166667]]\n"
     ]
    }
   ],
   "source": [
    "#6. Normalisation/Scaling for fitting the values in the model\n",
    "from sklearn.preprocessing import MinMaxScaler\n",
    "scaler = MinMaxScaler()\n",
    "x_train = scaler.fit_transform(x_train)\n",
    "x_test =  scaler.fit_transform(x_test)\n",
    "print(x_test)\n",
    "print(x_train)"
   ],
   "metadata": {
    "collapsed": false,
    "ExecuteTime": {
     "end_time": "2023-08-08T18:50:16.317798900Z",
     "start_time": "2023-08-08T18:50:16.291372500Z"
    }
   },
   "id": "fbada11e2a0b3d9f"
  },
  {
   "cell_type": "code",
   "execution_count": 45,
   "outputs": [],
   "source": [
    "#7. Run A Classifier/Regressor for the dataset\n",
    "from sklearn.linear_model import LogisticRegression\n",
    "model = LogisticRegression()"
   ],
   "metadata": {
    "collapsed": false,
    "ExecuteTime": {
     "end_time": "2023-08-08T18:50:19.458597100Z",
     "start_time": "2023-08-08T18:50:19.447564100Z"
    }
   },
   "id": "1e86148ebb4e3f3"
  },
  {
   "cell_type": "code",
   "execution_count": 46,
   "outputs": [
    {
     "data": {
      "text/plain": "LogisticRegression()",
      "text/html": "<style>#sk-container-id-2 {color: black;}#sk-container-id-2 pre{padding: 0;}#sk-container-id-2 div.sk-toggleable {background-color: white;}#sk-container-id-2 label.sk-toggleable__label {cursor: pointer;display: block;width: 100%;margin-bottom: 0;padding: 0.3em;box-sizing: border-box;text-align: center;}#sk-container-id-2 label.sk-toggleable__label-arrow:before {content: \"▸\";float: left;margin-right: 0.25em;color: #696969;}#sk-container-id-2 label.sk-toggleable__label-arrow:hover:before {color: black;}#sk-container-id-2 div.sk-estimator:hover label.sk-toggleable__label-arrow:before {color: black;}#sk-container-id-2 div.sk-toggleable__content {max-height: 0;max-width: 0;overflow: hidden;text-align: left;background-color: #f0f8ff;}#sk-container-id-2 div.sk-toggleable__content pre {margin: 0.2em;color: black;border-radius: 0.25em;background-color: #f0f8ff;}#sk-container-id-2 input.sk-toggleable__control:checked~div.sk-toggleable__content {max-height: 200px;max-width: 100%;overflow: auto;}#sk-container-id-2 input.sk-toggleable__control:checked~label.sk-toggleable__label-arrow:before {content: \"▾\";}#sk-container-id-2 div.sk-estimator input.sk-toggleable__control:checked~label.sk-toggleable__label {background-color: #d4ebff;}#sk-container-id-2 div.sk-label input.sk-toggleable__control:checked~label.sk-toggleable__label {background-color: #d4ebff;}#sk-container-id-2 input.sk-hidden--visually {border: 0;clip: rect(1px 1px 1px 1px);clip: rect(1px, 1px, 1px, 1px);height: 1px;margin: -1px;overflow: hidden;padding: 0;position: absolute;width: 1px;}#sk-container-id-2 div.sk-estimator {font-family: monospace;background-color: #f0f8ff;border: 1px dotted black;border-radius: 0.25em;box-sizing: border-box;margin-bottom: 0.5em;}#sk-container-id-2 div.sk-estimator:hover {background-color: #d4ebff;}#sk-container-id-2 div.sk-parallel-item::after {content: \"\";width: 100%;border-bottom: 1px solid gray;flex-grow: 1;}#sk-container-id-2 div.sk-label:hover label.sk-toggleable__label {background-color: #d4ebff;}#sk-container-id-2 div.sk-serial::before {content: \"\";position: absolute;border-left: 1px solid gray;box-sizing: border-box;top: 0;bottom: 0;left: 50%;z-index: 0;}#sk-container-id-2 div.sk-serial {display: flex;flex-direction: column;align-items: center;background-color: white;padding-right: 0.2em;padding-left: 0.2em;position: relative;}#sk-container-id-2 div.sk-item {position: relative;z-index: 1;}#sk-container-id-2 div.sk-parallel {display: flex;align-items: stretch;justify-content: center;background-color: white;position: relative;}#sk-container-id-2 div.sk-item::before, #sk-container-id-2 div.sk-parallel-item::before {content: \"\";position: absolute;border-left: 1px solid gray;box-sizing: border-box;top: 0;bottom: 0;left: 50%;z-index: -1;}#sk-container-id-2 div.sk-parallel-item {display: flex;flex-direction: column;z-index: 1;position: relative;background-color: white;}#sk-container-id-2 div.sk-parallel-item:first-child::after {align-self: flex-end;width: 50%;}#sk-container-id-2 div.sk-parallel-item:last-child::after {align-self: flex-start;width: 50%;}#sk-container-id-2 div.sk-parallel-item:only-child::after {width: 0;}#sk-container-id-2 div.sk-dashed-wrapped {border: 1px dashed gray;margin: 0 0.4em 0.5em 0.4em;box-sizing: border-box;padding-bottom: 0.4em;background-color: white;}#sk-container-id-2 div.sk-label label {font-family: monospace;font-weight: bold;display: inline-block;line-height: 1.2em;}#sk-container-id-2 div.sk-label-container {text-align: center;}#sk-container-id-2 div.sk-container {/* jupyter's `normalize.less` sets `[hidden] { display: none; }` but bootstrap.min.css set `[hidden] { display: none !important; }` so we also need the `!important` here to be able to override the default hidden behavior on the sphinx rendered scikit-learn.org. See: https://github.com/scikit-learn/scikit-learn/issues/21755 */display: inline-block !important;position: relative;}#sk-container-id-2 div.sk-text-repr-fallback {display: none;}</style><div id=\"sk-container-id-2\" class=\"sk-top-container\"><div class=\"sk-text-repr-fallback\"><pre>LogisticRegression()</pre><b>In a Jupyter environment, please rerun this cell to show the HTML representation or trust the notebook. <br />On GitHub, the HTML representation is unable to render, please try loading this page with nbviewer.org.</b></div><div class=\"sk-container\" hidden><div class=\"sk-item\"><div class=\"sk-estimator sk-toggleable\"><input class=\"sk-toggleable__control sk-hidden--visually\" id=\"sk-estimator-id-2\" type=\"checkbox\" checked><label for=\"sk-estimator-id-2\" class=\"sk-toggleable__label sk-toggleable__label-arrow\">LogisticRegression</label><div class=\"sk-toggleable__content\"><pre>LogisticRegression()</pre></div></div></div></div></div>"
     },
     "execution_count": 46,
     "metadata": {},
     "output_type": "execute_result"
    }
   ],
   "source": [
    "#8. Fit the model\n",
    "model.fit(x_train,y_train)"
   ],
   "metadata": {
    "collapsed": false,
    "ExecuteTime": {
     "end_time": "2023-08-08T18:50:22.833637600Z",
     "start_time": "2023-08-08T18:50:22.806064900Z"
    }
   },
   "id": "9780a85ef0e48b73"
  },
  {
   "cell_type": "code",
   "execution_count": 47,
   "outputs": [
    {
     "name": "stdout",
     "output_type": "stream",
     "text": [
      "['Iris-virginica' 'Iris-versicolor' 'Iris-setosa' 'Iris-virginica'\n",
      " 'Iris-setosa' 'Iris-virginica' 'Iris-setosa' 'Iris-virginica'\n",
      " 'Iris-virginica' 'Iris-versicolor' 'Iris-virginica' 'Iris-virginica'\n",
      " 'Iris-versicolor' 'Iris-virginica' 'Iris-virginica' 'Iris-setosa'\n",
      " 'Iris-virginica' 'Iris-versicolor' 'Iris-setosa' 'Iris-setosa'\n",
      " 'Iris-virginica' 'Iris-versicolor' 'Iris-setosa' 'Iris-setosa'\n",
      " 'Iris-virginica' 'Iris-setosa' 'Iris-setosa' 'Iris-versicolor'\n",
      " 'Iris-versicolor' 'Iris-setosa' 'Iris-virginica' 'Iris-versicolor'\n",
      " 'Iris-setosa' 'Iris-virginica' 'Iris-virginica' 'Iris-versicolor'\n",
      " 'Iris-setosa' 'Iris-virginica']\n"
     ]
    }
   ],
   "source": [
    "#9. Predict The Output\n",
    "y_pred = model.predict(x_test)\n",
    "print(y_pred)"
   ],
   "metadata": {
    "collapsed": false,
    "ExecuteTime": {
     "end_time": "2023-08-08T18:50:25.736292400Z",
     "start_time": "2023-08-08T18:50:25.722774200Z"
    }
   },
   "id": "7ecffac3dbf0b38d"
  },
  {
   "cell_type": "code",
   "execution_count": 49,
   "outputs": [
    {
     "name": "stdout",
     "output_type": "stream",
     "text": [
      "['Iris-virginica' 'Iris-versicolor' 'Iris-setosa' 'Iris-virginica'\n",
      " 'Iris-setosa' 'Iris-virginica' 'Iris-setosa' 'Iris-versicolor'\n",
      " 'Iris-versicolor' 'Iris-versicolor' 'Iris-virginica' 'Iris-versicolor'\n",
      " 'Iris-versicolor' 'Iris-versicolor' 'Iris-versicolor' 'Iris-setosa'\n",
      " 'Iris-versicolor' 'Iris-versicolor' 'Iris-setosa' 'Iris-setosa'\n",
      " 'Iris-virginica' 'Iris-versicolor' 'Iris-setosa' 'Iris-setosa'\n",
      " 'Iris-virginica' 'Iris-setosa' 'Iris-setosa' 'Iris-versicolor'\n",
      " 'Iris-versicolor' 'Iris-setosa' 'Iris-virginica' 'Iris-versicolor'\n",
      " 'Iris-setosa' 'Iris-virginica' 'Iris-virginica' 'Iris-versicolor'\n",
      " 'Iris-setosa' 'Iris-versicolor']\n"
     ]
    }
   ],
   "source": [
    "print(y_test)"
   ],
   "metadata": {
    "collapsed": false,
    "ExecuteTime": {
     "end_time": "2023-08-08T18:50:36.554117600Z",
     "start_time": "2023-08-08T18:50:36.545861800Z"
    }
   },
   "id": "b1f99145c5e5d01a"
  },
  {
   "cell_type": "code",
   "execution_count": 50,
   "outputs": [
    {
     "data": {
      "text/plain": "81.57894736842105"
     },
     "execution_count": 50,
     "metadata": {},
     "output_type": "execute_result"
    }
   ],
   "source": [
    "#10. Accuracy\n",
    "from sklearn.metrics import accuracy_score\n",
    "accuracy_score(y_test,y_pred)*100"
   ],
   "metadata": {
    "collapsed": false,
    "ExecuteTime": {
     "end_time": "2023-08-08T18:50:43.112363500Z",
     "start_time": "2023-08-08T18:50:43.098367600Z"
    }
   },
   "id": "5a6e5129fc41a0f1"
  },
  {
   "cell_type": "code",
   "execution_count": 53,
   "outputs": [
    {
     "name": "stdout",
     "output_type": "stream",
     "text": [
      "[[0.24137931 0.65       0.0754717  0.04166667]\n",
      " [0.79310345 0.4        0.79245283 0.91666667]]\n"
     ]
    }
   ],
   "source": [
    "#11. Individual Prediction\n",
    "Ind_pred = scaler.transform([[5.1,3.5,1.4,0.2],[6.7,3.0,5.2,2.3]])\n",
    "print(Ind_pred)"
   ],
   "metadata": {
    "collapsed": false,
    "ExecuteTime": {
     "end_time": "2023-08-08T18:52:37.960214400Z",
     "start_time": "2023-08-08T18:52:37.951170600Z"
    }
   },
   "id": "5ec9173d05046c8e"
  },
  {
   "cell_type": "code",
   "execution_count": 54,
   "outputs": [
    {
     "data": {
      "text/plain": "array(['Iris-setosa', 'Iris-virginica'], dtype=object)"
     },
     "execution_count": 54,
     "metadata": {},
     "output_type": "execute_result"
    }
   ],
   "source": [
    "model.predict(Ind_pred)"
   ],
   "metadata": {
    "collapsed": false,
    "ExecuteTime": {
     "end_time": "2023-08-08T18:52:40.626832100Z",
     "start_time": "2023-08-08T18:52:40.616836700Z"
    }
   },
   "id": "2695ad84dc53c68d"
  }
 ],
 "metadata": {
  "kernelspec": {
   "display_name": "Python 3",
   "language": "python",
   "name": "python3"
  },
  "language_info": {
   "codemirror_mode": {
    "name": "ipython",
    "version": 2
   },
   "file_extension": ".py",
   "mimetype": "text/x-python",
   "name": "python",
   "nbconvert_exporter": "python",
   "pygments_lexer": "ipython2",
   "version": "2.7.6"
  }
 },
 "nbformat": 4,
 "nbformat_minor": 5
}
