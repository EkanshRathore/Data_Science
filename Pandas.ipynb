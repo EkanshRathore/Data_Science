{
 "cells": [
  {
   "cell_type": "code",
   "execution_count": null,
   "metadata": {
    "collapsed": true,
    "pycharm": {
     "name": "#%%\n"
    }
   },
   "outputs": [],
   "source": [
    "#PANDAS library = used to create dataframes and series\n",
    "#DATAFRAME = Tabular Data (Data presented in the form of a table)\n",
    "#SERIES  = COLUMN (Series is always 1 dimensional)"
   ]
  },
  {
   "cell_type": "code",
   "execution_count": 2,
   "outputs": [
    {
     "name": "stdout",
     "output_type": "stream",
     "text": [
      "{'cars': ['BMW', 'VOLVO', 'MERCEDES'], 'passings': ['3', '7', '2']}\n"
     ]
    }
   ],
   "source": [
    "#Let us create a dictionary\n",
    "mydataset = {'cars':['BMW','VOLVO','MERCEDES'] , 'passings' :['3','7','2'] }\n",
    "print(mydataset)"
   ],
   "metadata": {
    "collapsed": false,
    "ExecuteTime": {
     "end_time": "2023-07-19T05:25:58.730174500Z",
     "start_time": "2023-07-19T05:25:58.726173900Z"
    }
   }
  },
  {
   "cell_type": "code",
   "execution_count": 4,
   "outputs": [
    {
     "name": "stdout",
     "output_type": "stream",
     "text": [
      "       cars passings\n",
      "0       BMW        3\n",
      "1     VOLVO        7\n",
      "2  MERCEDES        2\n"
     ]
    }
   ],
   "source": [
    "#Now using the above dictionary , Let us create a dataframe\n",
    "import pandas as pd\n",
    "df = pd.DataFrame(mydataset)\n",
    "print(df)"
   ],
   "metadata": {
    "collapsed": false,
    "ExecuteTime": {
     "end_time": "2023-07-19T05:28:45.084368Z",
     "start_time": "2023-07-19T05:28:45.068724300Z"
    }
   }
  },
  {
   "cell_type": "code",
   "execution_count": 5,
   "outputs": [
    {
     "name": "stdout",
     "output_type": "stream",
     "text": [
      "0     1\n",
      "1     3\n",
      "2     5\n",
      "3    78\n",
      "4    89\n",
      "dtype: int64\n"
     ]
    }
   ],
   "source": [
    "#Create a list\n",
    "a = [1,3,5,78,89]\n",
    "myvar = pd.Series(a)\n",
    "print(myvar)\n",
    "#WHERE 1,3,5,78,89 are the series numbers & 0,1,2,3,4 are the indexes"
   ],
   "metadata": {
    "collapsed": false,
    "ExecuteTime": {
     "end_time": "2023-07-19T05:34:45.923598400Z",
     "start_time": "2023-07-19T05:34:45.906332100Z"
    }
   }
  },
  {
   "cell_type": "code",
   "execution_count": 7,
   "outputs": [
    {
     "name": "stdout",
     "output_type": "stream",
     "text": [
      "a    1\n",
      "b    3\n",
      "c    6\n",
      "d    7\n",
      "e    8\n",
      "f    9\n",
      "dtype: int64\n"
     ]
    }
   ],
   "source": [
    "# CHanging the indexes\n",
    "a = [1,3,6,7,8,9]\n",
    "myvar1 = pd.Series(a , index=['a','b','c','d','e','f'])\n",
    "print(myvar1)"
   ],
   "metadata": {
    "collapsed": false,
    "ExecuteTime": {
     "end_time": "2023-07-19T05:39:32.640026400Z",
     "start_time": "2023-07-19T05:39:32.625818300Z"
    }
   }
  },
  {
   "cell_type": "code",
   "execution_count": 8,
   "outputs": [
    {
     "name": "stdout",
     "output_type": "stream",
     "text": [
      "Cricket     1\n",
      "Football    2\n",
      "Hockey      3\n",
      "Golf        4\n",
      "dtype: int64\n"
     ]
    }
   ],
   "source": [
    "sports1 = pd.Series([1,2,3,4] ,index=['Cricket','Football','Hockey','Golf'])\n",
    "print(sports1)"
   ],
   "metadata": {
    "collapsed": false,
    "ExecuteTime": {
     "end_time": "2023-07-19T05:44:37.833370600Z",
     "start_time": "2023-07-19T05:44:37.824370700Z"
    }
   }
  },
  {
   "cell_type": "code",
   "execution_count": 9,
   "outputs": [
    {
     "name": "stdout",
     "output_type": "stream",
     "text": [
      "Cricket       1\n",
      "Basketball    2\n",
      "Baseball      3\n",
      "Golf          4\n",
      "dtype: int64\n"
     ]
    }
   ],
   "source": [
    "sports2 = pd.Series([1,2,3,4] , index=['Cricket','Basketball','Baseball','Golf'])\n",
    "print(sports2)"
   ],
   "metadata": {
    "collapsed": false,
    "ExecuteTime": {
     "end_time": "2023-07-19T05:46:02.255356Z",
     "start_time": "2023-07-19T05:46:02.241325700Z"
    }
   }
  },
  {
   "cell_type": "code",
   "execution_count": 10,
   "outputs": [
    {
     "name": "stdout",
     "output_type": "stream",
     "text": [
      "Baseball      NaN\n",
      "Basketball    NaN\n",
      "Cricket       2.0\n",
      "Football      NaN\n",
      "Golf          8.0\n",
      "Hockey        NaN\n",
      "dtype: float64\n"
     ]
    }
   ],
   "source": [
    "sports = sports1 + sports2\n",
    "print(sports)"
   ],
   "metadata": {
    "collapsed": false,
    "ExecuteTime": {
     "end_time": "2023-07-19T05:49:38.961933700Z",
     "start_time": "2023-07-19T05:49:38.946275400Z"
    }
   }
  },
  {
   "cell_type": "code",
   "execution_count": null,
   "outputs": [],
   "source": [
    "#NaN = Not a Number (Null Value / Missing Value)\n",
    "# When NaN comes into picture integer becomes float"
   ],
   "metadata": {
    "collapsed": false
   }
  },
  {
   "cell_type": "code",
   "execution_count": 11,
   "outputs": [
    {
     "name": "stdout",
     "output_type": "stream",
     "text": [
      "   Cricket  Basketball  Badminton\n",
      "0      1.0         3.0          1\n",
      "1      2.0         5.0          2\n",
      "2      NaN         6.0          3\n",
      "3      3.0         NaN          4\n",
      "4      5.0         2.0          5\n",
      "5      NaN         NaN          6\n",
      "6      4.0         7.0          7\n",
      "7      7.0         9.0          8\n"
     ]
    }
   ],
   "source": [
    "#Now let us make a Dataframe [key value pair dictionary]\n",
    "#Using NUMPY\n",
    "import numpy as np\n",
    "df = pd.DataFrame({'Cricket' : [1,2,np.nan,3,5,np.nan,4,7],\n",
    "                   'Basketball':[3,5,6,np.nan,2,np.nan,7,9],\n",
    "                   'Badminton' : [1,2,3,4,5,6,7,8]})\n",
    "print(df)\n"
   ],
   "metadata": {
    "collapsed": false,
    "ExecuteTime": {
     "end_time": "2023-07-19T06:00:56.647211600Z",
     "start_time": "2023-07-19T06:00:56.631773500Z"
    }
   }
  },
  {
   "cell_type": "code",
   "execution_count": 12,
   "outputs": [
    {
     "name": "stdout",
     "output_type": "stream",
     "text": [
      "   Cricket  Basketball  Badminton\n",
      "0      1.0         3.0          1\n",
      "1      2.0         5.0          2\n",
      "2      1.0         6.0          3\n",
      "3      3.0         1.0          4\n",
      "4      5.0         2.0          5\n",
      "5      1.0         1.0          6\n",
      "6      4.0         7.0          7\n",
      "7      7.0         9.0          8\n"
     ]
    }
   ],
   "source": [
    "#Now let us replace all null values with 1\n",
    "df= df.fillna(value=1)\n",
    "print(df)"
   ],
   "metadata": {
    "collapsed": false,
    "ExecuteTime": {
     "end_time": "2023-07-19T06:02:30.277670700Z",
     "start_time": "2023-07-19T06:02:30.274671100Z"
    }
   }
  }
 ],
 "metadata": {
  "kernelspec": {
   "display_name": "Python 3",
   "language": "python",
   "name": "python3"
  },
  "language_info": {
   "codemirror_mode": {
    "name": "ipython",
    "version": 2
   },
   "file_extension": ".py",
   "mimetype": "text/x-python",
   "name": "python",
   "nbconvert_exporter": "python",
   "pygments_lexer": "ipython2",
   "version": "2.7.6"
  }
 },
 "nbformat": 4,
 "nbformat_minor": 0
}
