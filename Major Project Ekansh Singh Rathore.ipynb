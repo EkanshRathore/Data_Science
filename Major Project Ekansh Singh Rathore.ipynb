{
 "cells": [
  {
   "cell_type": "code",
   "execution_count": 5,
   "outputs": [],
   "source": [
    "#MAJOR PROJECT BY - EKANSH SINGH RATHORE\n",
    "#This is the MAJOR PROJECT\n",
    "#Title = Datasets Containing AVOCADO PRICES\n",
    "#For Documentation Purpose = https://www.kaggle.com/datasets/neuromusic/avocado-prices?select=avocado.csv\n",
    "# USING The Logistic Regressor model for the prediction"
   ],
   "metadata": {
    "collapsed": false,
    "ExecuteTime": {
     "end_time": "2023-08-09T14:08:25.639099700Z",
     "start_time": "2023-08-09T14:08:25.619118100Z"
    }
   },
   "id": "f2e1343a92f74561"
  },
  {
   "cell_type": "code",
   "execution_count": 109,
   "outputs": [
    {
     "name": "stdout",
     "output_type": "stream",
     "text": [
      "       Unnamed: 0  AveragePrice  Total Volume     4046       4225    4770  \\\n",
      "0               0          1.33      64236.62  1036.74   54454.85   48.16   \n",
      "1               1          1.35      54876.98   674.28   44638.81   58.33   \n",
      "2               2          0.93     118220.22   794.70  109149.67  130.50   \n",
      "3               3          1.08      78992.15  1132.00   71976.41   72.58   \n",
      "4               4          1.28      51039.60   941.48   43838.39   75.78   \n",
      "...           ...           ...           ...      ...        ...     ...   \n",
      "18244           7          1.63      17074.83  2046.96    1529.20    0.00   \n",
      "18245           8          1.71      13888.04  1191.70    3431.50    0.00   \n",
      "18246           9          1.87      13766.76  1191.92    2452.79  727.94   \n",
      "18247          10          1.93      16205.22  1527.63    2981.04  727.01   \n",
      "18248          11          1.62      17489.58  2894.77    2356.13  224.53   \n",
      "\n",
      "       Total Bags  Small Bags  Large Bags  XLarge Bags          type  year  \\\n",
      "0         8696.87     8603.62       93.25          0.0  conventional  2015   \n",
      "1         9505.56     9408.07       97.49          0.0  conventional  2015   \n",
      "2         8145.35     8042.21      103.14          0.0  conventional  2015   \n",
      "3         5811.16     5677.40      133.76          0.0  conventional  2015   \n",
      "4         6183.95     5986.26      197.69          0.0  conventional  2015   \n",
      "...           ...         ...         ...          ...           ...   ...   \n",
      "18244    13498.67    13066.82      431.85          0.0       organic  2018   \n",
      "18245     9264.84     8940.04      324.80          0.0       organic  2018   \n",
      "18246     9394.11     9351.80       42.31          0.0       organic  2018   \n",
      "18247    10969.54    10919.54       50.00          0.0       organic  2018   \n",
      "18248    12014.15    11988.14       26.01          0.0       organic  2018   \n",
      "\n",
      "                 region  \n",
      "0                Albany  \n",
      "1                Albany  \n",
      "2                Albany  \n",
      "3                Albany  \n",
      "4                Albany  \n",
      "...                 ...  \n",
      "18244  WestTexNewMexico  \n",
      "18245  WestTexNewMexico  \n",
      "18246  WestTexNewMexico  \n",
      "18247  WestTexNewMexico  \n",
      "18248  WestTexNewMexico  \n",
      "\n",
      "[18249 rows x 13 columns]\n"
     ]
    }
   ],
   "source": [
    "#1. We have to perform Exploratory Data Analysis for the given dataset.\n",
    "#Dataset = https://www.kaggle.com/datasets/neuromusic/avocado-prices?select=avocado.csv\n",
    "# We are now Creating a Dataframe \n",
    "# We are giving df as a variable of the dataframe\n",
    "#Firstly we have to import the panda library \n",
    "import pandas as pd\n",
    "df = pd.read_csv('avocado.csv')\n",
    "print(df)"
   ],
   "metadata": {
    "collapsed": false,
    "ExecuteTime": {
     "end_time": "2023-08-09T15:15:08.615078100Z",
     "start_time": "2023-08-09T15:15:08.567055300Z"
    }
   },
   "id": "initial_id"
  },
  {
   "cell_type": "code",
   "execution_count": 38,
   "outputs": [
    {
     "name": "stdout",
     "output_type": "stream",
     "text": [
      "<class 'pandas.core.frame.DataFrame'>\n",
      "RangeIndex: 18249 entries, 0 to 18248\n",
      "Data columns (total 13 columns):\n",
      " #   Column        Non-Null Count  Dtype  \n",
      "---  ------        --------------  -----  \n",
      " 0   Unnamed: 0    18249 non-null  int64  \n",
      " 1   AveragePrice  18249 non-null  float64\n",
      " 2   Total Volume  18249 non-null  float64\n",
      " 3   4046          18249 non-null  float64\n",
      " 4   4225          18249 non-null  float64\n",
      " 5   4770          18249 non-null  float64\n",
      " 6   Total Bags    18249 non-null  float64\n",
      " 7   Small Bags    18249 non-null  float64\n",
      " 8   Large Bags    18249 non-null  float64\n",
      " 9   XLarge Bags   18249 non-null  float64\n",
      " 10  type          18249 non-null  object \n",
      " 11  year          18249 non-null  int64  \n",
      " 12  region        18249 non-null  object \n",
      "dtypes: float64(9), int64(2), object(2)\n",
      "memory usage: 1.8+ MB\n"
     ]
    }
   ],
   "source": [
    "#2. Pre-Processing the dataset that we have got from the server\n",
    "df.info()"
   ],
   "metadata": {
    "collapsed": false,
    "ExecuteTime": {
     "end_time": "2023-08-09T14:47:44.826211300Z",
     "start_time": "2023-08-09T14:47:44.812225500Z"
    }
   },
   "id": "29dc2b1dfd493f70"
  },
  {
   "cell_type": "code",
   "execution_count": 39,
   "outputs": [
    {
     "data": {
      "text/plain": "         Unnamed: 0  AveragePrice  Total Volume          4046          4225  \\\ncount  18249.000000  18249.000000  1.824900e+04  1.824900e+04  1.824900e+04   \nmean      24.232232      1.405978  8.506440e+05  2.930084e+05  2.951546e+05   \nstd       15.481045      0.402677  3.453545e+06  1.264989e+06  1.204120e+06   \nmin        0.000000      0.440000  8.456000e+01  0.000000e+00  0.000000e+00   \n25%       10.000000      1.100000  1.083858e+04  8.540700e+02  3.008780e+03   \n50%       24.000000      1.370000  1.073768e+05  8.645300e+03  2.906102e+04   \n75%       38.000000      1.660000  4.329623e+05  1.110202e+05  1.502069e+05   \nmax       52.000000      3.250000  6.250565e+07  2.274362e+07  2.047057e+07   \n\n               4770    Total Bags    Small Bags    Large Bags    XLarge Bags  \\\ncount  1.824900e+04  1.824900e+04  1.824900e+04  1.824900e+04   18249.000000   \nmean   2.283974e+04  2.396392e+05  1.821947e+05  5.433809e+04    3106.426507   \nstd    1.074641e+05  9.862424e+05  7.461785e+05  2.439660e+05   17692.894652   \nmin    0.000000e+00  0.000000e+00  0.000000e+00  0.000000e+00       0.000000   \n25%    0.000000e+00  5.088640e+03  2.849420e+03  1.274700e+02       0.000000   \n50%    1.849900e+02  3.974383e+04  2.636282e+04  2.647710e+03       0.000000   \n75%    6.243420e+03  1.107834e+05  8.333767e+04  2.202925e+04     132.500000   \nmax    2.546439e+06  1.937313e+07  1.338459e+07  5.719097e+06  551693.650000   \n\n               year  \ncount  18249.000000  \nmean    2016.147899  \nstd        0.939938  \nmin     2015.000000  \n25%     2015.000000  \n50%     2016.000000  \n75%     2017.000000  \nmax     2018.000000  ",
      "text/html": "<div>\n<style scoped>\n    .dataframe tbody tr th:only-of-type {\n        vertical-align: middle;\n    }\n\n    .dataframe tbody tr th {\n        vertical-align: top;\n    }\n\n    .dataframe thead th {\n        text-align: right;\n    }\n</style>\n<table border=\"1\" class=\"dataframe\">\n  <thead>\n    <tr style=\"text-align: right;\">\n      <th></th>\n      <th>Unnamed: 0</th>\n      <th>AveragePrice</th>\n      <th>Total Volume</th>\n      <th>4046</th>\n      <th>4225</th>\n      <th>4770</th>\n      <th>Total Bags</th>\n      <th>Small Bags</th>\n      <th>Large Bags</th>\n      <th>XLarge Bags</th>\n      <th>year</th>\n    </tr>\n  </thead>\n  <tbody>\n    <tr>\n      <th>count</th>\n      <td>18249.000000</td>\n      <td>18249.000000</td>\n      <td>1.824900e+04</td>\n      <td>1.824900e+04</td>\n      <td>1.824900e+04</td>\n      <td>1.824900e+04</td>\n      <td>1.824900e+04</td>\n      <td>1.824900e+04</td>\n      <td>1.824900e+04</td>\n      <td>18249.000000</td>\n      <td>18249.000000</td>\n    </tr>\n    <tr>\n      <th>mean</th>\n      <td>24.232232</td>\n      <td>1.405978</td>\n      <td>8.506440e+05</td>\n      <td>2.930084e+05</td>\n      <td>2.951546e+05</td>\n      <td>2.283974e+04</td>\n      <td>2.396392e+05</td>\n      <td>1.821947e+05</td>\n      <td>5.433809e+04</td>\n      <td>3106.426507</td>\n      <td>2016.147899</td>\n    </tr>\n    <tr>\n      <th>std</th>\n      <td>15.481045</td>\n      <td>0.402677</td>\n      <td>3.453545e+06</td>\n      <td>1.264989e+06</td>\n      <td>1.204120e+06</td>\n      <td>1.074641e+05</td>\n      <td>9.862424e+05</td>\n      <td>7.461785e+05</td>\n      <td>2.439660e+05</td>\n      <td>17692.894652</td>\n      <td>0.939938</td>\n    </tr>\n    <tr>\n      <th>min</th>\n      <td>0.000000</td>\n      <td>0.440000</td>\n      <td>8.456000e+01</td>\n      <td>0.000000e+00</td>\n      <td>0.000000e+00</td>\n      <td>0.000000e+00</td>\n      <td>0.000000e+00</td>\n      <td>0.000000e+00</td>\n      <td>0.000000e+00</td>\n      <td>0.000000</td>\n      <td>2015.000000</td>\n    </tr>\n    <tr>\n      <th>25%</th>\n      <td>10.000000</td>\n      <td>1.100000</td>\n      <td>1.083858e+04</td>\n      <td>8.540700e+02</td>\n      <td>3.008780e+03</td>\n      <td>0.000000e+00</td>\n      <td>5.088640e+03</td>\n      <td>2.849420e+03</td>\n      <td>1.274700e+02</td>\n      <td>0.000000</td>\n      <td>2015.000000</td>\n    </tr>\n    <tr>\n      <th>50%</th>\n      <td>24.000000</td>\n      <td>1.370000</td>\n      <td>1.073768e+05</td>\n      <td>8.645300e+03</td>\n      <td>2.906102e+04</td>\n      <td>1.849900e+02</td>\n      <td>3.974383e+04</td>\n      <td>2.636282e+04</td>\n      <td>2.647710e+03</td>\n      <td>0.000000</td>\n      <td>2016.000000</td>\n    </tr>\n    <tr>\n      <th>75%</th>\n      <td>38.000000</td>\n      <td>1.660000</td>\n      <td>4.329623e+05</td>\n      <td>1.110202e+05</td>\n      <td>1.502069e+05</td>\n      <td>6.243420e+03</td>\n      <td>1.107834e+05</td>\n      <td>8.333767e+04</td>\n      <td>2.202925e+04</td>\n      <td>132.500000</td>\n      <td>2017.000000</td>\n    </tr>\n    <tr>\n      <th>max</th>\n      <td>52.000000</td>\n      <td>3.250000</td>\n      <td>6.250565e+07</td>\n      <td>2.274362e+07</td>\n      <td>2.047057e+07</td>\n      <td>2.546439e+06</td>\n      <td>1.937313e+07</td>\n      <td>1.338459e+07</td>\n      <td>5.719097e+06</td>\n      <td>551693.650000</td>\n      <td>2018.000000</td>\n    </tr>\n  </tbody>\n</table>\n</div>"
     },
     "execution_count": 39,
     "metadata": {},
     "output_type": "execute_result"
    }
   ],
   "source": [
    "df.describe()"
   ],
   "metadata": {
    "collapsed": false,
    "ExecuteTime": {
     "end_time": "2023-08-09T14:47:48.414879500Z",
     "start_time": "2023-08-09T14:47:48.369843900Z"
    }
   },
   "id": "a21fc7749e2fa6fb"
  },
  {
   "cell_type": "code",
   "execution_count": 40,
   "outputs": [
    {
     "data": {
      "text/plain": "237237"
     },
     "execution_count": 40,
     "metadata": {},
     "output_type": "execute_result"
    }
   ],
   "source": [
    "df.size"
   ],
   "metadata": {
    "collapsed": false,
    "ExecuteTime": {
     "end_time": "2023-08-09T14:47:50.829479Z",
     "start_time": "2023-08-09T14:47:50.818483900Z"
    }
   },
   "id": "7584c732fa0553e"
  },
  {
   "cell_type": "code",
   "execution_count": 41,
   "outputs": [
    {
     "data": {
      "text/plain": "(18249, 13)"
     },
     "execution_count": 41,
     "metadata": {},
     "output_type": "execute_result"
    }
   ],
   "source": [
    "df.shape"
   ],
   "metadata": {
    "collapsed": false,
    "ExecuteTime": {
     "end_time": "2023-08-09T14:47:52.675652400Z",
     "start_time": "2023-08-09T14:47:52.665662800Z"
    }
   },
   "id": "42e62e19d382cf8d"
  },
  {
   "cell_type": "code",
   "execution_count": 42,
   "outputs": [],
   "source": [
    "# Here we are determining the input and the output variables\n",
    "# We have to predict the price of the given laptop whichever we want\n",
    "# mark, model, generation_name, year, mileage, vol_engine, fuel, city, province = INPUTS\n",
    "# price = Output"
   ],
   "metadata": {
    "collapsed": false,
    "ExecuteTime": {
     "end_time": "2023-08-09T14:47:55.011198900Z",
     "start_time": "2023-08-09T14:47:55.003200800Z"
    }
   },
   "id": "7db0feefdb833f22"
  },
  {
   "cell_type": "code",
   "execution_count": 43,
   "outputs": [],
   "source": [
    "#3. VISUALISATION - Visualisation cannot be done on classification based models "
   ],
   "metadata": {
    "collapsed": false,
    "ExecuteTime": {
     "end_time": "2023-08-09T14:47:57.192469700Z",
     "start_time": "2023-08-09T14:47:57.185468300Z"
    }
   },
   "id": "d9d8cef3026f1aa0"
  },
  {
   "cell_type": "code",
   "execution_count": 51,
   "outputs": [
    {
     "name": "stdout",
     "output_type": "stream",
     "text": [
      "[[1.3300000e+00 6.4236620e+04 1.0367400e+03 ... 8.6036200e+03\n",
      "  9.3250000e+01 0.0000000e+00]\n",
      " [1.3500000e+00 5.4876980e+04 6.7428000e+02 ... 9.4080700e+03\n",
      "  9.7490000e+01 0.0000000e+00]\n",
      " [9.3000000e-01 1.1822022e+05 7.9470000e+02 ... 8.0422100e+03\n",
      "  1.0314000e+02 0.0000000e+00]\n",
      " ...\n",
      " [1.8700000e+00 1.3766760e+04 1.1919200e+03 ... 9.3518000e+03\n",
      "  4.2310000e+01 0.0000000e+00]\n",
      " [1.9300000e+00 1.6205220e+04 1.5276300e+03 ... 1.0919540e+04\n",
      "  5.0000000e+01 0.0000000e+00]\n",
      " [1.6200000e+00 1.7489580e+04 2.8947700e+03 ... 1.1988140e+04\n",
      "  2.6010000e+01 0.0000000e+00]]\n"
     ]
    }
   ],
   "source": [
    "#4. Dividing the Values into Input & Output\n",
    "# For x\n",
    "x = df.iloc[:,1:10].values\n",
    "print(x)"
   ],
   "metadata": {
    "collapsed": false,
    "ExecuteTime": {
     "end_time": "2023-08-09T14:48:44.788783300Z",
     "start_time": "2023-08-09T14:48:44.782783700Z"
    }
   },
   "id": "59b8d374fc9b11d"
  },
  {
   "cell_type": "code",
   "execution_count": 74,
   "outputs": [
    {
     "name": "stdout",
     "output_type": "stream",
     "text": [
      "['Albany' 'Albany' 'Albany' ... 'WestTexNewMexico' 'WestTexNewMexico'\n",
      " 'WestTexNewMexico']\n"
     ]
    }
   ],
   "source": [
    "# For y\n",
    "y = df.iloc[:,12].values\n",
    "print(y)"
   ],
   "metadata": {
    "collapsed": false,
    "ExecuteTime": {
     "end_time": "2023-08-09T14:55:48.516169200Z",
     "start_time": "2023-08-09T14:55:48.510200300Z"
    }
   },
   "id": "16a6f34f407aaa51"
  },
  {
   "cell_type": "code",
   "execution_count": 76,
   "outputs": [],
   "source": [
    "#5. For Training and Testing Variables -\n",
    "# The data of x and y is split into training and testing here\n",
    "from sklearn.model_selection import train_test_split\n",
    "x_train, x_test, y_train, y_test = train_test_split(x,y,random_state=0)"
   ],
   "metadata": {
    "collapsed": false,
    "ExecuteTime": {
     "end_time": "2023-08-09T14:55:55.124644300Z",
     "start_time": "2023-08-09T14:55:55.110645Z"
    }
   },
   "id": "8311958968dd11c3"
  },
  {
   "cell_type": "code",
   "execution_count": 77,
   "outputs": [
    {
     "name": "stdout",
     "output_type": "stream",
     "text": [
      "(18249, 9)\n",
      "(13686, 9)\n",
      "(4563, 9)\n"
     ]
    }
   ],
   "source": [
    "#For x\n",
    "print(x.shape)\n",
    "print(x_train.shape)\n",
    "print(x_test.shape)"
   ],
   "metadata": {
    "collapsed": false,
    "ExecuteTime": {
     "end_time": "2023-08-09T14:55:56.690330Z",
     "start_time": "2023-08-09T14:55:56.682332500Z"
    }
   },
   "id": "60a751eb8b7df6c6"
  },
  {
   "cell_type": "code",
   "execution_count": 78,
   "outputs": [
    {
     "name": "stdout",
     "output_type": "stream",
     "text": [
      "(18249,)\n",
      "(13686,)\n",
      "(4563,)\n"
     ]
    }
   ],
   "source": [
    "#For y\n",
    "print(y.shape)\n",
    "print(y_train.shape)\n",
    "print(y_test.shape)"
   ],
   "metadata": {
    "collapsed": false,
    "ExecuteTime": {
     "end_time": "2023-08-09T14:55:58.550036900Z",
     "start_time": "2023-08-09T14:55:58.545005600Z"
    }
   },
   "id": "65f2126e26e0419f"
  },
  {
   "cell_type": "code",
   "execution_count": 79,
   "outputs": [
    {
     "name": "stdout",
     "output_type": "stream",
     "text": [
      "[[2.13523132e-01 4.26578566e-03 2.36137471e-04 ... 2.17588488e-03\n",
      "  1.89749793e-02 1.76078173e-04]\n",
      " [1.77935943e-01 7.51237570e-02 7.37174519e-02 ... 7.93228507e-02\n",
      "  2.39106120e-02 2.35824139e-02]\n",
      " [8.50533808e-01 1.55463445e-04 2.91862119e-06 ... 3.71389874e-04\n",
      "  5.82259792e-07 0.00000000e+00]\n",
      " ...\n",
      " [5.26690391e-01 1.13426546e-04 1.70003748e-05 ... 3.86018640e-05\n",
      "  6.52130967e-05 0.00000000e+00]\n",
      " [5.05338078e-01 5.07167666e-05 1.94243517e-05 ... 5.38754024e-06\n",
      "  1.58661422e-04 0.00000000e+00]\n",
      " [1.70818505e-01 1.08149050e-01 1.42424950e-01 ... 5.80489440e-02\n",
      "  3.75460627e-02 1.86973010e-04]]\n",
      "[[3.71647510e-01 8.78011086e-05 8.76266694e-05 ... 1.03665557e-05\n",
      "  2.94811937e-04 0.00000000e+00]\n",
      " [2.06896552e-01 4.37988617e-03 3.15431628e-04 ... 2.44262925e-03\n",
      "  5.27507355e-03 2.18249748e-03]\n",
      " [2.91187739e-01 2.40700223e-02 6.77706982e-03 ... 2.01654643e-02\n",
      "  8.15866774e-02 0.00000000e+00]\n",
      " ...\n",
      " [6.01532567e-01 1.60527894e-03 3.71574025e-04 ... 3.70096324e-03\n",
      "  4.19673346e-05 0.00000000e+00]\n",
      " [3.98467433e-01 6.80832590e-04 5.05804023e-04 ... 1.64375775e-03\n",
      "  2.42832321e-04 0.00000000e+00]\n",
      " [4.06130268e-01 1.03350330e-03 5.79959640e-04 ... 8.38755627e-04\n",
      "  1.76685061e-03 0.00000000e+00]]\n"
     ]
    }
   ],
   "source": [
    "#6. NORMALISATION / SCALING\n",
    "from sklearn.preprocessing import MinMaxScaler\n",
    "scaler = MinMaxScaler()\n",
    "x_train = scaler.fit_transform(x_train)\n",
    "x_test = scaler.fit_transform(x_test)\n",
    "print(x_train)\n",
    "print(x_test)"
   ],
   "metadata": {
    "collapsed": false,
    "ExecuteTime": {
     "end_time": "2023-08-09T14:56:00.368246300Z",
     "start_time": "2023-08-09T14:56:00.357250700Z"
    }
   },
   "id": "561385b527b66a37"
  },
  {
   "cell_type": "code",
   "execution_count": 80,
   "outputs": [],
   "source": [
    "#7. Apply a Regressor/Classifier/Cluster to the Dataset\n",
    "from sklearn.linear_model import LogisticRegression\n",
    "model = LogisticRegression()"
   ],
   "metadata": {
    "collapsed": false,
    "ExecuteTime": {
     "end_time": "2023-08-09T14:56:02.143670Z",
     "start_time": "2023-08-09T14:56:02.137683900Z"
    }
   },
   "id": "8b74f3c8739cab6"
  },
  {
   "cell_type": "code",
   "execution_count": 81,
   "outputs": [
    {
     "data": {
      "text/plain": "LogisticRegression()",
      "text/html": "<style>#sk-container-id-1 {color: black;}#sk-container-id-1 pre{padding: 0;}#sk-container-id-1 div.sk-toggleable {background-color: white;}#sk-container-id-1 label.sk-toggleable__label {cursor: pointer;display: block;width: 100%;margin-bottom: 0;padding: 0.3em;box-sizing: border-box;text-align: center;}#sk-container-id-1 label.sk-toggleable__label-arrow:before {content: \"▸\";float: left;margin-right: 0.25em;color: #696969;}#sk-container-id-1 label.sk-toggleable__label-arrow:hover:before {color: black;}#sk-container-id-1 div.sk-estimator:hover label.sk-toggleable__label-arrow:before {color: black;}#sk-container-id-1 div.sk-toggleable__content {max-height: 0;max-width: 0;overflow: hidden;text-align: left;background-color: #f0f8ff;}#sk-container-id-1 div.sk-toggleable__content pre {margin: 0.2em;color: black;border-radius: 0.25em;background-color: #f0f8ff;}#sk-container-id-1 input.sk-toggleable__control:checked~div.sk-toggleable__content {max-height: 200px;max-width: 100%;overflow: auto;}#sk-container-id-1 input.sk-toggleable__control:checked~label.sk-toggleable__label-arrow:before {content: \"▾\";}#sk-container-id-1 div.sk-estimator input.sk-toggleable__control:checked~label.sk-toggleable__label {background-color: #d4ebff;}#sk-container-id-1 div.sk-label input.sk-toggleable__control:checked~label.sk-toggleable__label {background-color: #d4ebff;}#sk-container-id-1 input.sk-hidden--visually {border: 0;clip: rect(1px 1px 1px 1px);clip: rect(1px, 1px, 1px, 1px);height: 1px;margin: -1px;overflow: hidden;padding: 0;position: absolute;width: 1px;}#sk-container-id-1 div.sk-estimator {font-family: monospace;background-color: #f0f8ff;border: 1px dotted black;border-radius: 0.25em;box-sizing: border-box;margin-bottom: 0.5em;}#sk-container-id-1 div.sk-estimator:hover {background-color: #d4ebff;}#sk-container-id-1 div.sk-parallel-item::after {content: \"\";width: 100%;border-bottom: 1px solid gray;flex-grow: 1;}#sk-container-id-1 div.sk-label:hover label.sk-toggleable__label {background-color: #d4ebff;}#sk-container-id-1 div.sk-serial::before {content: \"\";position: absolute;border-left: 1px solid gray;box-sizing: border-box;top: 0;bottom: 0;left: 50%;z-index: 0;}#sk-container-id-1 div.sk-serial {display: flex;flex-direction: column;align-items: center;background-color: white;padding-right: 0.2em;padding-left: 0.2em;position: relative;}#sk-container-id-1 div.sk-item {position: relative;z-index: 1;}#sk-container-id-1 div.sk-parallel {display: flex;align-items: stretch;justify-content: center;background-color: white;position: relative;}#sk-container-id-1 div.sk-item::before, #sk-container-id-1 div.sk-parallel-item::before {content: \"\";position: absolute;border-left: 1px solid gray;box-sizing: border-box;top: 0;bottom: 0;left: 50%;z-index: -1;}#sk-container-id-1 div.sk-parallel-item {display: flex;flex-direction: column;z-index: 1;position: relative;background-color: white;}#sk-container-id-1 div.sk-parallel-item:first-child::after {align-self: flex-end;width: 50%;}#sk-container-id-1 div.sk-parallel-item:last-child::after {align-self: flex-start;width: 50%;}#sk-container-id-1 div.sk-parallel-item:only-child::after {width: 0;}#sk-container-id-1 div.sk-dashed-wrapped {border: 1px dashed gray;margin: 0 0.4em 0.5em 0.4em;box-sizing: border-box;padding-bottom: 0.4em;background-color: white;}#sk-container-id-1 div.sk-label label {font-family: monospace;font-weight: bold;display: inline-block;line-height: 1.2em;}#sk-container-id-1 div.sk-label-container {text-align: center;}#sk-container-id-1 div.sk-container {/* jupyter's `normalize.less` sets `[hidden] { display: none; }` but bootstrap.min.css set `[hidden] { display: none !important; }` so we also need the `!important` here to be able to override the default hidden behavior on the sphinx rendered scikit-learn.org. See: https://github.com/scikit-learn/scikit-learn/issues/21755 */display: inline-block !important;position: relative;}#sk-container-id-1 div.sk-text-repr-fallback {display: none;}</style><div id=\"sk-container-id-1\" class=\"sk-top-container\"><div class=\"sk-text-repr-fallback\"><pre>LogisticRegression()</pre><b>In a Jupyter environment, please rerun this cell to show the HTML representation or trust the notebook. <br />On GitHub, the HTML representation is unable to render, please try loading this page with nbviewer.org.</b></div><div class=\"sk-container\" hidden><div class=\"sk-item\"><div class=\"sk-estimator sk-toggleable\"><input class=\"sk-toggleable__control sk-hidden--visually\" id=\"sk-estimator-id-1\" type=\"checkbox\" checked><label for=\"sk-estimator-id-1\" class=\"sk-toggleable__label sk-toggleable__label-arrow\">LogisticRegression</label><div class=\"sk-toggleable__content\"><pre>LogisticRegression()</pre></div></div></div></div></div>"
     },
     "execution_count": 81,
     "metadata": {},
     "output_type": "execute_result"
    }
   ],
   "source": [
    "#8. Fit the model\n",
    "model.fit(x_train,y_train)"
   ],
   "metadata": {
    "collapsed": false,
    "ExecuteTime": {
     "end_time": "2023-08-09T14:56:05.451235100Z",
     "start_time": "2023-08-09T14:56:03.834412900Z"
    }
   },
   "id": "8eff9e4c6919c93b"
  },
  {
   "cell_type": "code",
   "execution_count": 83,
   "outputs": [
    {
     "name": "stdout",
     "output_type": "stream",
     "text": [
      "[[3.71647510e-01 8.78011086e-05 8.76266694e-05 ... 1.03665557e-05\n",
      "  2.94811937e-04 0.00000000e+00]\n",
      " [2.06896552e-01 4.37988617e-03 3.15431628e-04 ... 2.44262925e-03\n",
      "  5.27507355e-03 2.18249748e-03]\n",
      " [2.91187739e-01 2.40700223e-02 6.77706982e-03 ... 2.01654643e-02\n",
      "  8.15866774e-02 0.00000000e+00]\n",
      " ...\n",
      " [6.01532567e-01 1.60527894e-03 3.71574025e-04 ... 3.70096324e-03\n",
      "  4.19673346e-05 0.00000000e+00]\n",
      " [3.98467433e-01 6.80832590e-04 5.05804023e-04 ... 1.64375775e-03\n",
      "  2.42832321e-04 0.00000000e+00]\n",
      " [4.06130268e-01 1.03350330e-03 5.79959640e-04 ... 8.38755627e-04\n",
      "  1.76685061e-03 0.00000000e+00]]\n"
     ]
    }
   ],
   "source": [
    "#9. Predict the output of the model\n",
    "y_pred = model.predict(x_test)\n",
    "print(x_test)"
   ],
   "metadata": {
    "collapsed": false,
    "ExecuteTime": {
     "end_time": "2023-08-09T14:57:14.112629500Z",
     "start_time": "2023-08-09T14:57:14.098643500Z"
    }
   },
   "id": "538b45132f541352"
  },
  {
   "cell_type": "code",
   "execution_count": 85,
   "outputs": [
    {
     "data": {
      "text/plain": "7.4074074074074066"
     },
     "execution_count": 85,
     "metadata": {},
     "output_type": "execute_result"
    }
   ],
   "source": [
    "#10. Check the Accuracy Score \n",
    "from sklearn.metrics import accuracy_score\n",
    "accuracy_score(y_test,y_pred)*100"
   ],
   "metadata": {
    "collapsed": false,
    "ExecuteTime": {
     "end_time": "2023-08-09T14:58:36.589529600Z",
     "start_time": "2023-08-09T14:58:36.579530200Z"
    }
   },
   "id": "55b2eb133da759a"
  },
  {
   "cell_type": "code",
   "execution_count": 105,
   "outputs": [
    {
     "name": "stdout",
     "output_type": "stream",
     "text": [
      "[[1.00000000e+00 1.00000000e+00 1.00000000e+00 1.00000000e+00\n",
      "  0.00000000e+00 0.00000000e+00 0.00000000e+00 0.00000000e+00\n",
      "  0.00000000e+00]\n",
      " [0.00000000e+00 0.00000000e+00 0.00000000e+00 0.00000000e+00\n",
      "  1.00000000e+00 1.00000000e+00 1.00000000e+00 1.00000000e+00\n",
      "  1.00000000e+00]\n",
      " [7.64705882e-01 3.79687516e+01 7.01846072e+02 1.93726826e+01\n",
      "  9.17081579e+02 8.98802010e+01 1.38680279e+02 9.45680597e+00\n",
      "  8.38638764e+00]]\n"
     ]
    }
   ],
   "source": [
    "#11. Individual Prediction\n",
    "Ind_pred = scaler.transform([[1.33,64236.62,1036.74,54454.85,48.16,8696.87,8603.62,93.25,0],\n",
    "                             [1.16,47362.13,961.77,\t35577.66,93.76,10728.94,9869.16,755.61,104.17],\n",
    "                             [1.29,688065.45,53579.17,401279.47,41867.08,191339.73,184109.06,6357.06,873.61]])\n",
    "print(Ind_pred)"
   ],
   "metadata": {
    "collapsed": false,
    "ExecuteTime": {
     "end_time": "2023-08-09T15:08:45.106105900Z",
     "start_time": "2023-08-09T15:08:45.101112500Z"
    }
   },
   "id": "65bc66bf0a7d3d1b"
  },
  {
   "cell_type": "code",
   "execution_count": 106,
   "outputs": [
    {
     "data": {
      "text/plain": "array(['TotalUS', 'GreatLakes', 'SouthCentral'], dtype=object)"
     },
     "execution_count": 106,
     "metadata": {},
     "output_type": "execute_result"
    }
   ],
   "source": [
    "model.predict(Ind_pred)"
   ],
   "metadata": {
    "collapsed": false,
    "ExecuteTime": {
     "end_time": "2023-08-09T15:08:47.207056600Z",
     "start_time": "2023-08-09T15:08:47.200029200Z"
    }
   },
   "id": "127d95d785c94957"
  }
 ],
 "metadata": {
  "kernelspec": {
   "display_name": "Python 3",
   "language": "python",
   "name": "python3"
  },
  "language_info": {
   "codemirror_mode": {
    "name": "ipython",
    "version": 2
   },
   "file_extension": ".py",
   "mimetype": "text/x-python",
   "name": "python",
   "nbconvert_exporter": "python",
   "pygments_lexer": "ipython2",
   "version": "2.7.6"
  }
 },
 "nbformat": 4,
 "nbformat_minor": 5
}
