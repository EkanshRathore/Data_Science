{
 "cells": [
  {
   "cell_type": "code",
   "execution_count": 2,
   "id": "initial_id",
   "metadata": {
    "collapsed": true,
    "ExecuteTime": {
     "end_time": "2023-08-09T15:18:11.172865900Z",
     "start_time": "2023-08-09T15:18:11.166865800Z"
    }
   },
   "outputs": [],
   "source": [
    "#This is the MAJOR PROJECT\n",
    "#Title = Datasets Containing Mall Customers\n",
    "#For Documentation Purpose = https://raw.githubusercontent.com/ameenmanna8824/DATASETS/main/Mall_Customers.csv\n",
    "# USING The Logistic Regressor model for the prediction"
   ]
  },
  {
   "cell_type": "code",
   "execution_count": 3,
   "outputs": [],
   "source": [
    "# There are Certain steps to be followed to create a data model fo the dataset"
   ],
   "metadata": {
    "collapsed": false,
    "ExecuteTime": {
     "end_time": "2023-08-09T15:18:13.179844200Z",
     "start_time": "2023-08-09T15:18:13.172811300Z"
    }
   },
   "id": "513dea1fdeb56fce"
  },
  {
   "cell_type": "code",
   "execution_count": 4,
   "outputs": [
    {
     "name": "stdout",
     "output_type": "stream",
     "text": [
      "     CustomerID   Genre  Age  Annual Income (k$)  Spending Score (1-100)\n",
      "0             1    Male   19                  15                      39\n",
      "1             2    Male   21                  15                      81\n",
      "2             3  Female   20                  16                       6\n",
      "3             4  Female   23                  16                      77\n",
      "4             5  Female   31                  17                      40\n",
      "..          ...     ...  ...                 ...                     ...\n",
      "195         196  Female   35                 120                      79\n",
      "196         197  Female   45                 126                      28\n",
      "197         198    Male   32                 126                      74\n",
      "198         199    Male   32                 137                      18\n",
      "199         200    Male   30                 137                      83\n",
      "\n",
      "[200 rows x 5 columns]\n"
     ]
    }
   ],
   "source": [
    "#1. We have to perform Exploratory Data Analysis for the given dataset.\n",
    "# DATASET = https://raw.githubusercontent.com/ameenmanna8824/DATASETS/main/laptops.csv\n",
    "# We are now Creating a Dataframe \n",
    "# We are giving df as a variable of the dataframe\n",
    "#Firstly we have to import the panda library \n",
    "import pandas as pd\n",
    "df = pd.read_csv('https://raw.githubusercontent.com/ameenmanna8824/DATASETS/main/Mall_Customers.csv')\n",
    "print(df)"
   ],
   "metadata": {
    "collapsed": false,
    "ExecuteTime": {
     "end_time": "2023-08-09T15:18:16.202554700Z",
     "start_time": "2023-08-09T15:18:15.216945500Z"
    }
   },
   "id": "652464a763f18558"
  },
  {
   "cell_type": "code",
   "execution_count": 5,
   "outputs": [
    {
     "name": "stdout",
     "output_type": "stream",
     "text": [
      "<class 'pandas.core.frame.DataFrame'>\n",
      "RangeIndex: 200 entries, 0 to 199\n",
      "Data columns (total 5 columns):\n",
      " #   Column                  Non-Null Count  Dtype \n",
      "---  ------                  --------------  ----- \n",
      " 0   CustomerID              200 non-null    int64 \n",
      " 1   Genre                   200 non-null    object\n",
      " 2   Age                     200 non-null    int64 \n",
      " 3   Annual Income (k$)      200 non-null    int64 \n",
      " 4   Spending Score (1-100)  200 non-null    int64 \n",
      "dtypes: int64(4), object(1)\n",
      "memory usage: 7.9+ KB\n"
     ]
    }
   ],
   "source": [
    "#2. Pre-Processing the dataset that we have got from the server\n",
    "df.info()"
   ],
   "metadata": {
    "collapsed": false,
    "ExecuteTime": {
     "end_time": "2023-08-09T15:18:18.302190800Z",
     "start_time": "2023-08-09T15:18:18.293184200Z"
    }
   },
   "id": "eaf69be936540950"
  },
  {
   "cell_type": "code",
   "execution_count": 6,
   "outputs": [
    {
     "data": {
      "text/plain": "       CustomerID         Age  Annual Income (k$)  Spending Score (1-100)\ncount  200.000000  200.000000          200.000000              200.000000\nmean   100.500000   38.850000           60.560000               50.200000\nstd     57.879185   13.969007           26.264721               25.823522\nmin      1.000000   18.000000           15.000000                1.000000\n25%     50.750000   28.750000           41.500000               34.750000\n50%    100.500000   36.000000           61.500000               50.000000\n75%    150.250000   49.000000           78.000000               73.000000\nmax    200.000000   70.000000          137.000000               99.000000",
      "text/html": "<div>\n<style scoped>\n    .dataframe tbody tr th:only-of-type {\n        vertical-align: middle;\n    }\n\n    .dataframe tbody tr th {\n        vertical-align: top;\n    }\n\n    .dataframe thead th {\n        text-align: right;\n    }\n</style>\n<table border=\"1\" class=\"dataframe\">\n  <thead>\n    <tr style=\"text-align: right;\">\n      <th></th>\n      <th>CustomerID</th>\n      <th>Age</th>\n      <th>Annual Income (k$)</th>\n      <th>Spending Score (1-100)</th>\n    </tr>\n  </thead>\n  <tbody>\n    <tr>\n      <th>count</th>\n      <td>200.000000</td>\n      <td>200.000000</td>\n      <td>200.000000</td>\n      <td>200.000000</td>\n    </tr>\n    <tr>\n      <th>mean</th>\n      <td>100.500000</td>\n      <td>38.850000</td>\n      <td>60.560000</td>\n      <td>50.200000</td>\n    </tr>\n    <tr>\n      <th>std</th>\n      <td>57.879185</td>\n      <td>13.969007</td>\n      <td>26.264721</td>\n      <td>25.823522</td>\n    </tr>\n    <tr>\n      <th>min</th>\n      <td>1.000000</td>\n      <td>18.000000</td>\n      <td>15.000000</td>\n      <td>1.000000</td>\n    </tr>\n    <tr>\n      <th>25%</th>\n      <td>50.750000</td>\n      <td>28.750000</td>\n      <td>41.500000</td>\n      <td>34.750000</td>\n    </tr>\n    <tr>\n      <th>50%</th>\n      <td>100.500000</td>\n      <td>36.000000</td>\n      <td>61.500000</td>\n      <td>50.000000</td>\n    </tr>\n    <tr>\n      <th>75%</th>\n      <td>150.250000</td>\n      <td>49.000000</td>\n      <td>78.000000</td>\n      <td>73.000000</td>\n    </tr>\n    <tr>\n      <th>max</th>\n      <td>200.000000</td>\n      <td>70.000000</td>\n      <td>137.000000</td>\n      <td>99.000000</td>\n    </tr>\n  </tbody>\n</table>\n</div>"
     },
     "execution_count": 6,
     "metadata": {},
     "output_type": "execute_result"
    }
   ],
   "source": [
    "df.describe()"
   ],
   "metadata": {
    "collapsed": false,
    "ExecuteTime": {
     "end_time": "2023-08-09T15:18:20.979646100Z",
     "start_time": "2023-08-09T15:18:20.949612400Z"
    }
   },
   "id": "e35e3b0ac100997f"
  },
  {
   "cell_type": "code",
   "execution_count": 7,
   "outputs": [
    {
     "data": {
      "text/plain": "1000"
     },
     "execution_count": 7,
     "metadata": {},
     "output_type": "execute_result"
    }
   ],
   "source": [
    "df.size"
   ],
   "metadata": {
    "collapsed": false,
    "ExecuteTime": {
     "end_time": "2023-08-09T15:18:23.533111600Z",
     "start_time": "2023-08-09T15:18:23.525157500Z"
    }
   },
   "id": "89a063b89647be5e"
  },
  {
   "cell_type": "code",
   "execution_count": 8,
   "outputs": [
    {
     "data": {
      "text/plain": "(200, 5)"
     },
     "execution_count": 8,
     "metadata": {},
     "output_type": "execute_result"
    }
   ],
   "source": [
    "df.shape"
   ],
   "metadata": {
    "collapsed": false,
    "ExecuteTime": {
     "end_time": "2023-08-09T15:18:25.758392100Z",
     "start_time": "2023-08-09T15:18:25.747390300Z"
    }
   },
   "id": "22add5e090fd93"
  },
  {
   "cell_type": "code",
   "execution_count": 9,
   "outputs": [],
   "source": [
    "# Here we are determining the input and the output variables\n",
    "# We have to predict the price of the given laptop whichever we want\n",
    "# Age, Annual Income = INPUTS\n",
    "# Spending Score = OUTPUT"
   ],
   "metadata": {
    "collapsed": false,
    "ExecuteTime": {
     "end_time": "2023-08-09T15:18:27.536179400Z",
     "start_time": "2023-08-09T15:18:27.525182400Z"
    }
   },
   "id": "eace1807c3ba7222"
  },
  {
   "cell_type": "code",
   "execution_count": 10,
   "outputs": [],
   "source": [
    "#3. VISUALISATION - Visualisation cannot be done on classification based models "
   ],
   "metadata": {
    "collapsed": false,
    "ExecuteTime": {
     "end_time": "2023-08-09T15:18:29.406810Z",
     "start_time": "2023-08-09T15:18:29.401771800Z"
    }
   },
   "id": "1db4d73367084f5"
  },
  {
   "cell_type": "code",
   "execution_count": 11,
   "outputs": [
    {
     "name": "stdout",
     "output_type": "stream",
     "text": [
      "[[ 19  15]\n",
      " [ 21  15]\n",
      " [ 20  16]\n",
      " [ 23  16]\n",
      " [ 31  17]\n",
      " [ 22  17]\n",
      " [ 35  18]\n",
      " [ 23  18]\n",
      " [ 64  19]\n",
      " [ 30  19]\n",
      " [ 67  19]\n",
      " [ 35  19]\n",
      " [ 58  20]\n",
      " [ 24  20]\n",
      " [ 37  20]\n",
      " [ 22  20]\n",
      " [ 35  21]\n",
      " [ 20  21]\n",
      " [ 52  23]\n",
      " [ 35  23]\n",
      " [ 35  24]\n",
      " [ 25  24]\n",
      " [ 46  25]\n",
      " [ 31  25]\n",
      " [ 54  28]\n",
      " [ 29  28]\n",
      " [ 45  28]\n",
      " [ 35  28]\n",
      " [ 40  29]\n",
      " [ 23  29]\n",
      " [ 60  30]\n",
      " [ 21  30]\n",
      " [ 53  33]\n",
      " [ 18  33]\n",
      " [ 49  33]\n",
      " [ 21  33]\n",
      " [ 42  34]\n",
      " [ 30  34]\n",
      " [ 36  37]\n",
      " [ 20  37]\n",
      " [ 65  38]\n",
      " [ 24  38]\n",
      " [ 48  39]\n",
      " [ 31  39]\n",
      " [ 49  39]\n",
      " [ 24  39]\n",
      " [ 50  40]\n",
      " [ 27  40]\n",
      " [ 29  40]\n",
      " [ 31  40]\n",
      " [ 49  42]\n",
      " [ 33  42]\n",
      " [ 31  43]\n",
      " [ 59  43]\n",
      " [ 50  43]\n",
      " [ 47  43]\n",
      " [ 51  44]\n",
      " [ 69  44]\n",
      " [ 27  46]\n",
      " [ 53  46]\n",
      " [ 70  46]\n",
      " [ 19  46]\n",
      " [ 67  47]\n",
      " [ 54  47]\n",
      " [ 63  48]\n",
      " [ 18  48]\n",
      " [ 43  48]\n",
      " [ 68  48]\n",
      " [ 19  48]\n",
      " [ 32  48]\n",
      " [ 70  49]\n",
      " [ 47  49]\n",
      " [ 60  50]\n",
      " [ 60  50]\n",
      " [ 59  54]\n",
      " [ 26  54]\n",
      " [ 45  54]\n",
      " [ 40  54]\n",
      " [ 23  54]\n",
      " [ 49  54]\n",
      " [ 57  54]\n",
      " [ 38  54]\n",
      " [ 67  54]\n",
      " [ 46  54]\n",
      " [ 21  54]\n",
      " [ 48  54]\n",
      " [ 55  57]\n",
      " [ 22  57]\n",
      " [ 34  58]\n",
      " [ 50  58]\n",
      " [ 68  59]\n",
      " [ 18  59]\n",
      " [ 48  60]\n",
      " [ 40  60]\n",
      " [ 32  60]\n",
      " [ 24  60]\n",
      " [ 47  60]\n",
      " [ 27  60]\n",
      " [ 48  61]\n",
      " [ 20  61]\n",
      " [ 23  62]\n",
      " [ 49  62]\n",
      " [ 67  62]\n",
      " [ 26  62]\n",
      " [ 49  62]\n",
      " [ 21  62]\n",
      " [ 66  63]\n",
      " [ 54  63]\n",
      " [ 68  63]\n",
      " [ 66  63]\n",
      " [ 65  63]\n",
      " [ 19  63]\n",
      " [ 38  64]\n",
      " [ 19  64]\n",
      " [ 18  65]\n",
      " [ 19  65]\n",
      " [ 63  65]\n",
      " [ 49  65]\n",
      " [ 51  67]\n",
      " [ 50  67]\n",
      " [ 27  67]\n",
      " [ 38  67]\n",
      " [ 40  69]\n",
      " [ 39  69]\n",
      " [ 23  70]\n",
      " [ 31  70]\n",
      " [ 43  71]\n",
      " [ 40  71]\n",
      " [ 59  71]\n",
      " [ 38  71]\n",
      " [ 47  71]\n",
      " [ 39  71]\n",
      " [ 25  72]\n",
      " [ 31  72]\n",
      " [ 20  73]\n",
      " [ 29  73]\n",
      " [ 44  73]\n",
      " [ 32  73]\n",
      " [ 19  74]\n",
      " [ 35  74]\n",
      " [ 57  75]\n",
      " [ 32  75]\n",
      " [ 28  76]\n",
      " [ 32  76]\n",
      " [ 25  77]\n",
      " [ 28  77]\n",
      " [ 48  77]\n",
      " [ 32  77]\n",
      " [ 34  78]\n",
      " [ 34  78]\n",
      " [ 43  78]\n",
      " [ 39  78]\n",
      " [ 44  78]\n",
      " [ 38  78]\n",
      " [ 47  78]\n",
      " [ 27  78]\n",
      " [ 37  78]\n",
      " [ 30  78]\n",
      " [ 34  78]\n",
      " [ 30  78]\n",
      " [ 56  79]\n",
      " [ 29  79]\n",
      " [ 19  81]\n",
      " [ 31  81]\n",
      " [ 50  85]\n",
      " [ 36  85]\n",
      " [ 42  86]\n",
      " [ 33  86]\n",
      " [ 36  87]\n",
      " [ 32  87]\n",
      " [ 40  87]\n",
      " [ 28  87]\n",
      " [ 36  87]\n",
      " [ 36  87]\n",
      " [ 52  88]\n",
      " [ 30  88]\n",
      " [ 58  88]\n",
      " [ 27  88]\n",
      " [ 59  93]\n",
      " [ 35  93]\n",
      " [ 37  97]\n",
      " [ 32  97]\n",
      " [ 46  98]\n",
      " [ 29  98]\n",
      " [ 41  99]\n",
      " [ 30  99]\n",
      " [ 54 101]\n",
      " [ 28 101]\n",
      " [ 41 103]\n",
      " [ 36 103]\n",
      " [ 34 103]\n",
      " [ 32 103]\n",
      " [ 33 113]\n",
      " [ 38 113]\n",
      " [ 47 120]\n",
      " [ 35 120]\n",
      " [ 45 126]\n",
      " [ 32 126]\n",
      " [ 32 137]\n",
      " [ 30 137]]\n"
     ]
    }
   ],
   "source": [
    "#4. Dividing the Values into Input & Output\n",
    "# For x\n",
    "x = df.iloc[:,2:4].values\n",
    "print(x)"
   ],
   "metadata": {
    "collapsed": false,
    "ExecuteTime": {
     "end_time": "2023-08-09T15:18:31.154427300Z",
     "start_time": "2023-08-09T15:18:31.148427200Z"
    }
   },
   "id": "fd9cf7d77c1ce138"
  },
  {
   "cell_type": "code",
   "execution_count": 12,
   "outputs": [
    {
     "name": "stdout",
     "output_type": "stream",
     "text": [
      "[39 81  6 77 40 76  6 94  3 72 14 99 15 77 13 79 35 66 29 98 35 73  5 73\n",
      " 14 82 32 61 31 87  4 73  4 92 14 81 17 73 26 75 35 92 36 61 28 65 55 47\n",
      " 42 42 52 60 54 60 45 41 50 46 51 46 56 55 52 59 51 59 50 48 59 47 55 42\n",
      " 49 56 47 54 53 48 52 42 51 55 41 44 57 46 58 55 60 46 55 41 49 40 42 52\n",
      " 47 50 42 49 41 48 59 55 56 42 50 46 43 48 52 54 42 46 48 50 43 59 43 57\n",
      " 56 40 58 91 29 77 35 95 11 75  9 75 34 71  5 88  7 73 10 72  5 93 40 87\n",
      " 12 97 36 74 22 90 17 88 20 76 16 89  1 78  1 73 35 83  5 93 26 75 20 95\n",
      " 27 63 13 75 10 92 13 86 15 69 14 90 32 86 15 88 39 97 24 68 17 85 23 69\n",
      "  8 91 16 79 28 74 18 83]\n"
     ]
    }
   ],
   "source": [
    "# For y\n",
    "y = df.iloc[:,4].values\n",
    "print(y)"
   ],
   "metadata": {
    "collapsed": false,
    "ExecuteTime": {
     "end_time": "2023-08-09T15:18:33.684337200Z",
     "start_time": "2023-08-09T15:18:33.673303400Z"
    }
   },
   "id": "56bdf0facbd16661"
  },
  {
   "cell_type": "code",
   "execution_count": 13,
   "outputs": [],
   "source": [
    "#5. For Training and Testing Variables -\n",
    "# The data of x and y is split into training and testing here\n",
    "from sklearn.model_selection import train_test_split\n",
    "x_train, x_test, y_train, y_test = train_test_split(x,y,random_state=0)"
   ],
   "metadata": {
    "collapsed": false,
    "ExecuteTime": {
     "end_time": "2023-08-09T15:18:36.594826900Z",
     "start_time": "2023-08-09T15:18:36.059935600Z"
    }
   },
   "id": "8ab1d59a40fb9aa6"
  },
  {
   "cell_type": "code",
   "execution_count": 14,
   "outputs": [
    {
     "name": "stdout",
     "output_type": "stream",
     "text": [
      "(200, 2)\n",
      "(150, 2)\n",
      "(50, 2)\n"
     ]
    }
   ],
   "source": [
    "#For x\n",
    "print(x.shape) #100%\n",
    "print(x_train.shape) #75%\n",
    "print(x_test.shape) #25%"
   ],
   "metadata": {
    "collapsed": false,
    "ExecuteTime": {
     "end_time": "2023-08-09T15:18:38.435829400Z",
     "start_time": "2023-08-09T15:18:38.430832300Z"
    }
   },
   "id": "c449d9598f99214a"
  },
  {
   "cell_type": "code",
   "execution_count": 15,
   "outputs": [
    {
     "name": "stdout",
     "output_type": "stream",
     "text": [
      "(200,)\n",
      "(150,)\n",
      "(50,)\n"
     ]
    }
   ],
   "source": [
    "#For y\n",
    "print(y.shape) #100%\n",
    "print(y_train.shape) #75%\n",
    "print(y_test.shape) #25%"
   ],
   "metadata": {
    "collapsed": false,
    "ExecuteTime": {
     "end_time": "2023-08-09T15:18:40.783369300Z",
     "start_time": "2023-08-09T15:18:40.774371200Z"
    }
   },
   "id": "716623321ef0869b"
  },
  {
   "cell_type": "code",
   "execution_count": 16,
   "outputs": [
    {
     "name": "stdout",
     "output_type": "stream",
     "text": [
      "[[0.55769231 0.27868852]\n",
      " [0.09615385 0.45081967]\n",
      " [0.44230769 0.68852459]\n",
      " [0.17307692 0.36885246]\n",
      " [0.30769231 0.51639344]\n",
      " [0.69230769 0.10655738]\n",
      " [0.80769231 0.12295082]\n",
      " [0.73076923 0.52459016]\n",
      " [0.90384615 0.18852459]\n",
      " [0.63461538 0.23770492]\n",
      " [0.40384615 0.45901639]\n",
      " [0.55769231 0.36885246]\n",
      " [0.26923077 0.67213115]\n",
      " [0.32692308 0.06557377]\n",
      " [0.38461538 0.51639344]\n",
      " [0.57692308 0.36885246]\n",
      " [0.61538462 0.2295082 ]\n",
      " [0.25       0.54098361]\n",
      " [0.28846154 0.22131148]\n",
      " [0.71153846 0.3442623 ]\n",
      " [0.32692308 0.48360656]\n",
      " [0.96153846 0.36065574]\n",
      " [0.26923077 0.47540984]\n",
      " [0.59615385 0.3852459 ]\n",
      " [0.13461538 0.50819672]\n",
      " [0.61538462 0.35245902]\n",
      " [0.92307692 0.39344262]\n",
      " [0.36538462 0.04098361]\n",
      " [0.32692308 0.10655738]\n",
      " [0.26923077 0.49180328]\n",
      " [0.19230769 0.70491803]\n",
      " [0.61538462 0.20491803]\n",
      " [0.01923077 0.48360656]\n",
      " [0.32692308 0.86065574]\n",
      " [0.96153846 0.39344262]\n",
      " [0.94230769 0.26229508]\n",
      " [0.03846154 0.00819672]\n",
      " [0.67307692 0.25409836]\n",
      " [0.5        0.47540984]\n",
      " [0.26923077 0.90983607]\n",
      " [0.25       0.19672131]\n",
      " [0.94230769 0.03278689]\n",
      " [0.55769231 0.86065574]\n",
      " [0.80769231 0.28688525]\n",
      " [0.51923077 0.90983607]\n",
      " [0.78846154 0.63934426]\n",
      " [0.23076923 0.59836066]\n",
      " [0.48076923 0.45901639]\n",
      " [0.42307692 0.36885246]\n",
      " [0.38461538 0.40163934]\n",
      " [0.30769231 0.51639344]\n",
      " [0.26923077 0.72131148]\n",
      " [0.59615385 0.22131148]\n",
      " [0.01923077 0.        ]\n",
      " [0.26923077 0.36885246]\n",
      " [0.90384615 0.39344262]\n",
      " [0.11538462 0.36885246]\n",
      " [0.86538462 0.2704918 ]\n",
      " [0.28846154 0.58196721]\n",
      " [0.11538462 0.18852459]\n",
      " [0.26923077 0.2704918 ]\n",
      " [0.25       0.20491803]\n",
      " [0.21153846 0.20491803]\n",
      " [0.57692308 0.31967213]\n",
      " [0.11538462 0.04098361]\n",
      " [0.21153846 0.52459016]\n",
      " [0.25       0.08196721]\n",
      " [0.69230769 0.70491803]\n",
      " [0.21153846 0.47540984]\n",
      " [0.32692308 0.07377049]\n",
      " [0.07692308 0.04098361]\n",
      " [0.09615385 0.31967213]\n",
      " [0.59615385 0.3852459 ]\n",
      " [0.25       0.2295082 ]\n",
      " [0.09615385 0.3852459 ]\n",
      " [0.51923077 0.31967213]\n",
      " [0.09615385 0.00819672]\n",
      " [0.86538462 0.40983607]\n",
      " [0.61538462 0.57377049]\n",
      " [0.26923077 1.        ]\n",
      " [0.32692308 0.02459016]\n",
      " [0.01923077 0.2704918 ]\n",
      " [0.05769231 0.31967213]\n",
      " [0.38461538 0.42622951]\n",
      " [0.17307692 0.51639344]\n",
      " [0.19230769 0.59016393]\n",
      " [0.36538462 0.51639344]\n",
      " [0.         0.36065574]\n",
      " [0.23076923 1.        ]\n",
      " [0.32692308 0.03278689]\n",
      " [0.61538462 0.42622951]\n",
      " [0.94230769 0.3852459 ]\n",
      " [0.05769231 0.14754098]\n",
      " [0.98076923 0.23770492]\n",
      " [0.         0.2704918 ]\n",
      " [0.05769231 0.        ]\n",
      " [0.17307692 0.42622951]\n",
      " [0.01923077 0.54098361]\n",
      " [0.57692308 0.19672131]\n",
      " [0.05769231 0.3852459 ]\n",
      " [0.13461538 0.46721311]\n",
      " [0.34615385 0.59016393]\n",
      " [0.03846154 0.04918033]\n",
      " [0.34615385 0.18032787]\n",
      " [0.25       0.46721311]\n",
      " [0.78846154 0.2295082 ]\n",
      " [0.23076923 0.51639344]\n",
      " [0.78846154 0.45901639]\n",
      " [0.59615385 0.14754098]\n",
      " [0.42307692 0.1147541 ]\n",
      " [0.         0.40983607]\n",
      " [0.40384615 0.51639344]\n",
      " [0.05769231 0.12295082]\n",
      " [0.46153846 0.58196721]\n",
      " [0.42307692 0.45901639]\n",
      " [0.76923077 0.59836066]\n",
      " [0.67307692 0.14754098]\n",
      " [0.19230769 0.5       ]\n",
      " [0.26923077 0.59016393]\n",
      " [0.26923077 0.50819672]\n",
      " [0.09615385 0.1147541 ]\n",
      " [0.03846154 0.37704918]\n",
      " [0.94230769 0.31967213]\n",
      " [0.59615385 0.31967213]\n",
      " [0.01923077 0.40983607]\n",
      " [0.30769231 0.51639344]\n",
      " [0.38461538 0.80327869]\n",
      " [0.80769231 0.28688525]\n",
      " [0.42307692 0.31967213]\n",
      " [0.21153846 0.10655738]\n",
      " [0.34615385 0.57377049]\n",
      " [0.38461538 0.31967213]\n",
      " [0.44230769 0.72131148]\n",
      " [0.65384615 0.59836066]\n",
      " [0.30769231 0.72131148]\n",
      " [0.03846154 0.18032787]\n",
      " [0.17307692 0.25409836]\n",
      " [0.75       0.49180328]\n",
      " [0.30769231 0.35245902]\n",
      " [1.         0.27868852]\n",
      " [0.07692308 0.3442623 ]\n",
      " [0.46153846 0.1557377 ]\n",
      " [0.13461538 0.07377049]\n",
      " [0.23076923 0.03278689]\n",
      " [0.15384615 0.3852459 ]\n",
      " [0.96153846 0.2704918 ]\n",
      " [0.28846154 0.80327869]\n",
      " [0.59615385 0.40983607]\n",
      " [0.17307692 0.20491803]\n",
      " [0.34615385 0.59016393]]\n",
      "[[0.65384615 0.06976744]\n",
      " [0.42307692 0.81395349]\n",
      " [0.69230769 0.53488372]\n",
      " [0.57692308 0.51162791]\n",
      " [0.17307692 0.8255814 ]\n",
      " [0.53846154 0.94186047]\n",
      " [0.07692308 0.        ]\n",
      " [0.57692308 0.69767442]\n",
      " [0.76923077 0.03488372]\n",
      " [0.5        0.70930233]\n",
      " [0.01923077 0.3372093 ]\n",
      " [0.25       0.61627907]\n",
      " [0.36538462 0.93023256]\n",
      " [0.55769231 0.70930233]\n",
      " [0.75       0.43023256]\n",
      " [0.09615385 0.01162791]\n",
      " [0.         0.18604651]\n",
      " [0.55769231 0.62790698]\n",
      " [0.23076923 0.19767442]\n",
      " [0.78846154 0.43023256]\n",
      " [0.21153846 0.94186047]\n",
      " [0.19230769 0.69767442]\n",
      " [0.11538462 0.25581395]\n",
      " [0.23076923 0.70930233]\n",
      " [1.         0.3372093 ]\n",
      " [0.40384615 0.60465116]\n",
      " [0.32692308 0.88372093]\n",
      " [0.23076923 0.95348837]\n",
      " [0.42307692 0.60465116]\n",
      " [0.59615385 0.25581395]\n",
      " [0.32692308 0.04651163]\n",
      " [0.55769231 0.30232558]\n",
      " [0.48076923 0.70930233]\n",
      " [0.01923077 0.53488372]\n",
      " [0.53846154 0.09302326]\n",
      " [0.34615385 1.        ]\n",
      " [0.38461538 0.62790698]\n",
      " [0.25       0.        ]\n",
      " [0.53846154 0.43023256]\n",
      " [0.92307692 0.53488372]\n",
      " [0.03846154 0.65116279]\n",
      " [0.48076923 0.36046512]\n",
      " [0.51923077 0.12790698]\n",
      " [0.01923077 0.54651163]\n",
      " [0.34615385 0.81395349]\n",
      " [0.69230769 0.34883721]\n",
      " [0.88461538 0.02325581]\n",
      " [0.15384615 0.43023256]\n",
      " [0.63461538 0.58139535]\n",
      " [0.26923077 0.68604651]]\n"
     ]
    }
   ],
   "source": [
    "#6. NORMALISATION/SCALING - This is done to fit/scale the values into the model [This is done only in multivariate datasets]\n",
    "from sklearn.preprocessing import MinMaxScaler\n",
    "scaler = MinMaxScaler()\n",
    "x_train = scaler.fit_transform(x_train)\n",
    "x_test = scaler.fit_transform(x_test)\n",
    "print(x_train)\n",
    "print(x_test)"
   ],
   "metadata": {
    "collapsed": false,
    "ExecuteTime": {
     "end_time": "2023-08-09T15:18:42.592507300Z",
     "start_time": "2023-08-09T15:18:42.578506Z"
    }
   },
   "id": "e7ae1bb1803f9038"
  },
  {
   "cell_type": "code",
   "execution_count": 17,
   "outputs": [],
   "source": [
    "#7. Apply a Regressor/Classifier/Cluster\n",
    "from sklearn.linear_model import LogisticRegression\n",
    "model = LogisticRegression()"
   ],
   "metadata": {
    "collapsed": false,
    "ExecuteTime": {
     "end_time": "2023-08-09T15:18:46.554865Z",
     "start_time": "2023-08-09T15:18:46.509866300Z"
    }
   },
   "id": "a368c94d1309dbb5"
  },
  {
   "cell_type": "code",
   "execution_count": 18,
   "outputs": [
    {
     "data": {
      "text/plain": "LogisticRegression()",
      "text/html": "<style>#sk-container-id-1 {color: black;}#sk-container-id-1 pre{padding: 0;}#sk-container-id-1 div.sk-toggleable {background-color: white;}#sk-container-id-1 label.sk-toggleable__label {cursor: pointer;display: block;width: 100%;margin-bottom: 0;padding: 0.3em;box-sizing: border-box;text-align: center;}#sk-container-id-1 label.sk-toggleable__label-arrow:before {content: \"▸\";float: left;margin-right: 0.25em;color: #696969;}#sk-container-id-1 label.sk-toggleable__label-arrow:hover:before {color: black;}#sk-container-id-1 div.sk-estimator:hover label.sk-toggleable__label-arrow:before {color: black;}#sk-container-id-1 div.sk-toggleable__content {max-height: 0;max-width: 0;overflow: hidden;text-align: left;background-color: #f0f8ff;}#sk-container-id-1 div.sk-toggleable__content pre {margin: 0.2em;color: black;border-radius: 0.25em;background-color: #f0f8ff;}#sk-container-id-1 input.sk-toggleable__control:checked~div.sk-toggleable__content {max-height: 200px;max-width: 100%;overflow: auto;}#sk-container-id-1 input.sk-toggleable__control:checked~label.sk-toggleable__label-arrow:before {content: \"▾\";}#sk-container-id-1 div.sk-estimator input.sk-toggleable__control:checked~label.sk-toggleable__label {background-color: #d4ebff;}#sk-container-id-1 div.sk-label input.sk-toggleable__control:checked~label.sk-toggleable__label {background-color: #d4ebff;}#sk-container-id-1 input.sk-hidden--visually {border: 0;clip: rect(1px 1px 1px 1px);clip: rect(1px, 1px, 1px, 1px);height: 1px;margin: -1px;overflow: hidden;padding: 0;position: absolute;width: 1px;}#sk-container-id-1 div.sk-estimator {font-family: monospace;background-color: #f0f8ff;border: 1px dotted black;border-radius: 0.25em;box-sizing: border-box;margin-bottom: 0.5em;}#sk-container-id-1 div.sk-estimator:hover {background-color: #d4ebff;}#sk-container-id-1 div.sk-parallel-item::after {content: \"\";width: 100%;border-bottom: 1px solid gray;flex-grow: 1;}#sk-container-id-1 div.sk-label:hover label.sk-toggleable__label {background-color: #d4ebff;}#sk-container-id-1 div.sk-serial::before {content: \"\";position: absolute;border-left: 1px solid gray;box-sizing: border-box;top: 0;bottom: 0;left: 50%;z-index: 0;}#sk-container-id-1 div.sk-serial {display: flex;flex-direction: column;align-items: center;background-color: white;padding-right: 0.2em;padding-left: 0.2em;position: relative;}#sk-container-id-1 div.sk-item {position: relative;z-index: 1;}#sk-container-id-1 div.sk-parallel {display: flex;align-items: stretch;justify-content: center;background-color: white;position: relative;}#sk-container-id-1 div.sk-item::before, #sk-container-id-1 div.sk-parallel-item::before {content: \"\";position: absolute;border-left: 1px solid gray;box-sizing: border-box;top: 0;bottom: 0;left: 50%;z-index: -1;}#sk-container-id-1 div.sk-parallel-item {display: flex;flex-direction: column;z-index: 1;position: relative;background-color: white;}#sk-container-id-1 div.sk-parallel-item:first-child::after {align-self: flex-end;width: 50%;}#sk-container-id-1 div.sk-parallel-item:last-child::after {align-self: flex-start;width: 50%;}#sk-container-id-1 div.sk-parallel-item:only-child::after {width: 0;}#sk-container-id-1 div.sk-dashed-wrapped {border: 1px dashed gray;margin: 0 0.4em 0.5em 0.4em;box-sizing: border-box;padding-bottom: 0.4em;background-color: white;}#sk-container-id-1 div.sk-label label {font-family: monospace;font-weight: bold;display: inline-block;line-height: 1.2em;}#sk-container-id-1 div.sk-label-container {text-align: center;}#sk-container-id-1 div.sk-container {/* jupyter's `normalize.less` sets `[hidden] { display: none; }` but bootstrap.min.css set `[hidden] { display: none !important; }` so we also need the `!important` here to be able to override the default hidden behavior on the sphinx rendered scikit-learn.org. See: https://github.com/scikit-learn/scikit-learn/issues/21755 */display: inline-block !important;position: relative;}#sk-container-id-1 div.sk-text-repr-fallback {display: none;}</style><div id=\"sk-container-id-1\" class=\"sk-top-container\"><div class=\"sk-text-repr-fallback\"><pre>LogisticRegression()</pre><b>In a Jupyter environment, please rerun this cell to show the HTML representation or trust the notebook. <br />On GitHub, the HTML representation is unable to render, please try loading this page with nbviewer.org.</b></div><div class=\"sk-container\" hidden><div class=\"sk-item\"><div class=\"sk-estimator sk-toggleable\"><input class=\"sk-toggleable__control sk-hidden--visually\" id=\"sk-estimator-id-1\" type=\"checkbox\" checked><label for=\"sk-estimator-id-1\" class=\"sk-toggleable__label sk-toggleable__label-arrow\">LogisticRegression</label><div class=\"sk-toggleable__content\"><pre>LogisticRegression()</pre></div></div></div></div></div>"
     },
     "execution_count": 18,
     "metadata": {},
     "output_type": "execute_result"
    }
   ],
   "source": [
    "#8. Fit the model Into the Given values\n",
    "model.fit(x_train,y_train)"
   ],
   "metadata": {
    "collapsed": false,
    "ExecuteTime": {
     "end_time": "2023-08-09T15:18:48.385278200Z",
     "start_time": "2023-08-09T15:18:48.370192500Z"
    }
   },
   "id": "62f3814f9310e609"
  },
  {
   "cell_type": "code",
   "execution_count": 19,
   "outputs": [
    {
     "name": "stdout",
     "output_type": "stream",
     "text": [
      "[55 42 55 55 42 42 42 55 55 42 42 42 42 55 55 42 42 42 42 55 42 42 42 42\n",
      " 55 42 42 42 42 55 42 42 42 42 42 42 42 42 42 55 42 42 42 42 42 55 55 42\n",
      " 55 42]\n"
     ]
    }
   ],
   "source": [
    "#9. Predict the Values of the model\n",
    "y_pred = model.predict(x_test)\n",
    "print(y_pred)"
   ],
   "metadata": {
    "collapsed": false,
    "ExecuteTime": {
     "end_time": "2023-08-09T15:18:50.618272300Z",
     "start_time": "2023-08-09T15:18:50.606296900Z"
    }
   },
   "id": "57dc34444786379b"
  },
  {
   "cell_type": "code",
   "execution_count": 20,
   "outputs": [
    {
     "name": "stdout",
     "output_type": "stream",
     "text": [
      "[29 13 46 42 69 15 76 36 15 20 55 77 32 16 51 94 92  9 73 47 88 97 65 73\n",
      " 56 91 90 97 58 28 35 41 17 54  5 85 75 40 44 50  5 50 32 46 27 59  3 54\n",
      " 43 87]\n"
     ]
    }
   ],
   "source": [
    "print(y_test)"
   ],
   "metadata": {
    "collapsed": false,
    "ExecuteTime": {
     "end_time": "2023-08-09T15:18:52.701198300Z",
     "start_time": "2023-08-09T15:18:52.693200100Z"
    }
   },
   "id": "ef220015e2ef1186"
  },
  {
   "cell_type": "code",
   "execution_count": 21,
   "outputs": [
    {
     "data": {
      "text/plain": "0.0"
     },
     "execution_count": 21,
     "metadata": {},
     "output_type": "execute_result"
    }
   ],
   "source": [
    "#10. Accuracy Score\n",
    "from sklearn.metrics import accuracy_score\n",
    "accuracy_score(y_test,y_pred)*100"
   ],
   "metadata": {
    "collapsed": false,
    "ExecuteTime": {
     "end_time": "2023-08-09T15:18:54.427528200Z",
     "start_time": "2023-08-09T15:18:54.420517700Z"
    }
   },
   "id": "460a48e97d90a387"
  },
  {
   "cell_type": "code",
   "execution_count": 22,
   "outputs": [
    {
     "name": "stdout",
     "output_type": "stream",
     "text": [
      "[[ 0.01923077 -0.02325581]\n",
      " [ 0.05769231 -0.02325581]]\n"
     ]
    }
   ],
   "source": [
    "#Individual Prediction\n",
    "Ind_pred = scaler.transform([[19,15],[21,15]])\n",
    "print(Ind_pred)"
   ],
   "metadata": {
    "collapsed": false,
    "ExecuteTime": {
     "end_time": "2023-08-09T15:18:56.912860300Z",
     "start_time": "2023-08-09T15:18:56.904890300Z"
    }
   },
   "id": "64a42c09057e4bc8"
  },
  {
   "cell_type": "code",
   "execution_count": 23,
   "outputs": [
    {
     "data": {
      "text/plain": "array([42, 42], dtype=int64)"
     },
     "execution_count": 23,
     "metadata": {},
     "output_type": "execute_result"
    }
   ],
   "source": [
    "model.predict(Ind_pred)"
   ],
   "metadata": {
    "collapsed": false,
    "ExecuteTime": {
     "end_time": "2023-08-09T15:18:58.959376800Z",
     "start_time": "2023-08-09T15:18:58.951380300Z"
    }
   },
   "id": "a8dfe09ed1c2b06e"
  }
 ],
 "metadata": {
  "kernelspec": {
   "display_name": "Python 3",
   "language": "python",
   "name": "python3"
  },
  "language_info": {
   "codemirror_mode": {
    "name": "ipython",
    "version": 2
   },
   "file_extension": ".py",
   "mimetype": "text/x-python",
   "name": "python",
   "nbconvert_exporter": "python",
   "pygments_lexer": "ipython2",
   "version": "2.7.6"
  }
 },
 "nbformat": 4,
 "nbformat_minor": 5
}
