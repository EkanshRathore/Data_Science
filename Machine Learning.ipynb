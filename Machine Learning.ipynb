{
 "cells": [
  {
   "cell_type": "code",
   "execution_count": 15,
   "metadata": {
    "collapsed": true,
    "ExecuteTime": {
     "end_time": "2023-08-02T11:09:04.113295300Z",
     "start_time": "2023-08-02T11:09:04.105795200Z"
    }
   },
   "outputs": [],
   "source": [
    "#Machine Learning - Supervised Learning - Regression - Linear Regression\n",
    "#For Regression we use continuous data\n",
    "#For Classification we use discreet data"
   ]
  },
  {
   "cell_type": "code",
   "execution_count": 14,
   "outputs": [],
   "source": [
    "#UNIVARIATE/SINGLE/SIMPLE = 1 Column as input and 1 Column as Output\n",
    "#Multivariate/Multi = Multiple column as input and 1 column as output"
   ],
   "metadata": {
    "collapsed": false,
    "ExecuteTime": {
     "end_time": "2023-08-02T11:09:02.232737300Z",
     "start_time": "2023-08-02T11:09:02.225135700Z"
    }
   }
  },
  {
   "cell_type": "code",
   "execution_count": 13,
   "outputs": [],
   "source": [
    "#1. DATA = https://raw.githubusercontent.com/ameenmanna8824/DATASETS/main/areavsprices.csv\n",
    "#DATASET = AREA VS PRICES\n",
    "#AREA = sqft\n",
    "#Prices = rupees"
   ],
   "metadata": {
    "collapsed": false,
    "ExecuteTime": {
     "end_time": "2023-08-02T11:09:00.545099900Z",
     "start_time": "2023-08-02T11:09:00.539593800Z"
    }
   }
  },
  {
   "cell_type": "code",
   "execution_count": 2,
   "outputs": [
    {
     "name": "stdout",
     "output_type": "stream",
     "text": [
      "   Area   Prices\n",
      "0  1000   550000\n",
      "1  1500   800000\n",
      "2  1800  1050000\n",
      "3  2400  1240000\n",
      "4  3000  1400000\n",
      "5  3500  1650000\n"
     ]
    }
   ],
   "source": [
    "#Taking the Data And creating a Dataframe\n",
    "import pandas as pd\n",
    "df = pd.read_csv('https://raw.githubusercontent.com/ameenmanna8824/DATASETS/main/areavsprices.csv')\n",
    "print(df)\n",
    "#Imaginary Story = We have Broker who wants us to get the prices based on our current data\n",
    "#We Have tp create a model so we know the input and output based on the given data"
   ],
   "metadata": {
    "collapsed": false,
    "ExecuteTime": {
     "end_time": "2023-08-02T11:01:35.044581600Z",
     "start_time": "2023-08-02T11:01:34.893432100Z"
    }
   }
  },
  {
   "cell_type": "code",
   "execution_count": 9,
   "outputs": [
    {
     "name": "stdout",
     "output_type": "stream",
     "text": [
      "<class 'pandas.core.frame.DataFrame'>\n",
      "RangeIndex: 6 entries, 0 to 5\n",
      "Data columns (total 2 columns):\n",
      " #   Column  Non-Null Count  Dtype\n",
      "---  ------  --------------  -----\n",
      " 0   Area    6 non-null      int64\n",
      " 1   Prices  6 non-null      int64\n",
      "dtypes: int64(2)\n",
      "memory usage: 224.0 bytes\n"
     ]
    }
   ],
   "source": [
    "#2. Pre Processing\n",
    "df.info()"
   ],
   "metadata": {
    "collapsed": false,
    "ExecuteTime": {
     "end_time": "2023-08-02T11:04:55.390381500Z",
     "start_time": "2023-08-02T11:04:55.381365400Z"
    }
   }
  },
  {
   "cell_type": "code",
   "execution_count": 11,
   "outputs": [
    {
     "data": {
      "text/plain": "12"
     },
     "execution_count": 11,
     "metadata": {},
     "output_type": "execute_result"
    }
   ],
   "source": [
    "df.size # Calculate the size of dataframe"
   ],
   "metadata": {
    "collapsed": false,
    "ExecuteTime": {
     "end_time": "2023-08-02T11:05:07.203281700Z",
     "start_time": "2023-08-02T11:05:07.196281100Z"
    }
   }
  },
  {
   "cell_type": "code",
   "execution_count": 12,
   "outputs": [
    {
     "data": {
      "text/plain": "              Area        Prices\ncount     6.000000  6.000000e+00\nmean   2200.000000  1.115000e+06\nstd     944.457516  4.014349e+05\nmin    1000.000000  5.500000e+05\n25%    1575.000000  8.625000e+05\n50%    2100.000000  1.145000e+06\n75%    2850.000000  1.360000e+06\nmax    3500.000000  1.650000e+06",
      "text/html": "<div>\n<style scoped>\n    .dataframe tbody tr th:only-of-type {\n        vertical-align: middle;\n    }\n\n    .dataframe tbody tr th {\n        vertical-align: top;\n    }\n\n    .dataframe thead th {\n        text-align: right;\n    }\n</style>\n<table border=\"1\" class=\"dataframe\">\n  <thead>\n    <tr style=\"text-align: right;\">\n      <th></th>\n      <th>Area</th>\n      <th>Prices</th>\n    </tr>\n  </thead>\n  <tbody>\n    <tr>\n      <th>count</th>\n      <td>6.000000</td>\n      <td>6.000000e+00</td>\n    </tr>\n    <tr>\n      <th>mean</th>\n      <td>2200.000000</td>\n      <td>1.115000e+06</td>\n    </tr>\n    <tr>\n      <th>std</th>\n      <td>944.457516</td>\n      <td>4.014349e+05</td>\n    </tr>\n    <tr>\n      <th>min</th>\n      <td>1000.000000</td>\n      <td>5.500000e+05</td>\n    </tr>\n    <tr>\n      <th>25%</th>\n      <td>1575.000000</td>\n      <td>8.625000e+05</td>\n    </tr>\n    <tr>\n      <th>50%</th>\n      <td>2100.000000</td>\n      <td>1.145000e+06</td>\n    </tr>\n    <tr>\n      <th>75%</th>\n      <td>2850.000000</td>\n      <td>1.360000e+06</td>\n    </tr>\n    <tr>\n      <th>max</th>\n      <td>3500.000000</td>\n      <td>1.650000e+06</td>\n    </tr>\n  </tbody>\n</table>\n</div>"
     },
     "execution_count": 12,
     "metadata": {},
     "output_type": "execute_result"
    }
   ],
   "source": [
    "df.describe()"
   ],
   "metadata": {
    "collapsed": false,
    "ExecuteTime": {
     "end_time": "2023-08-02T11:05:19.336905800Z",
     "start_time": "2023-08-02T11:05:19.306809Z"
    }
   }
  },
  {
   "cell_type": "code",
   "execution_count": 8,
   "outputs": [
    {
     "data": {
      "text/plain": "(6, 2)"
     },
     "execution_count": 8,
     "metadata": {},
     "output_type": "execute_result"
    }
   ],
   "source": [
    "df.shape #6 Rows and 2 Columns"
   ],
   "metadata": {
    "collapsed": false,
    "ExecuteTime": {
     "end_time": "2023-08-02T11:04:52.264238Z",
     "start_time": "2023-08-02T11:04:52.257678300Z"
    }
   }
  },
  {
   "cell_type": "code",
   "execution_count": 18,
   "outputs": [
    {
     "data": {
      "text/plain": "Text(0, 0.5, 'Prices')"
     },
     "execution_count": 18,
     "metadata": {},
     "output_type": "execute_result"
    },
    {
     "data": {
      "text/plain": "<Figure size 640x480 with 1 Axes>",
      "image/png": "[encoded data removed]"
     },
     "metadata": {},
     "output_type": "display_data"
    }
   ],
   "source": [
    "#3.VISUALISATION (GRAPHS AND REPRESENTATIONS )\n",
    "import matplotlib.pyplot as plt\n",
    "plt.plot(df['Area'],df['Prices'])\n",
    "plt.title('Area And Prices')\n",
    "plt.xlabel('Area')\n",
    "plt.ylabel('Prices')"
   ],
   "metadata": {
    "collapsed": false,
    "ExecuteTime": {
     "end_time": "2023-08-02T11:13:15.160112Z",
     "start_time": "2023-08-02T11:13:14.950765400Z"
    }
   }
  },
  {
   "cell_type": "code",
   "execution_count": 19,
   "outputs": [
    {
     "data": {
      "text/plain": "Text(0, 0.5, 'Prices')"
     },
     "execution_count": 19,
     "metadata": {},
     "output_type": "execute_result"
    },
    {
     "data": {
      "text/plain": "<Figure size 640x480 with 1 Axes>",
      "image/png": "[encoded data removed]"
     },
     "metadata": {},
     "output_type": "display_data"
    }
   ],
   "source": [
    "plt.scatter(df['Area'],df['Prices'])\n",
    "plt.title('Area And Prices')\n",
    "plt.xlabel('Area')\n",
    "plt.ylabel('Prices')"
   ],
   "metadata": {
    "collapsed": false,
    "ExecuteTime": {
     "end_time": "2023-08-02T11:13:39.637621800Z",
     "start_time": "2023-08-02T11:13:39.348129600Z"
    }
   }
  },
  {
   "cell_type": "code",
   "execution_count": 0,
   "outputs": [],
   "source": [
    "#Area = INPUT\n",
    "#Prices = OUTPUT"
   ],
   "metadata": {
    "collapsed": false
   }
  },
  {
   "cell_type": "code",
   "execution_count": 24,
   "outputs": [
    {
     "name": "stdout",
     "output_type": "stream",
     "text": [
      "[[1000]\n",
      " [1500]\n",
      " [1800]\n",
      " [2400]\n",
      " [3000]\n",
      " [3500]]\n"
     ]
    }
   ],
   "source": [
    "#4 . We have an input and an output\n",
    "#Divide the data into input(x) and output(y)\n",
    "#The input is always 2-dimensional\n",
    "#The Output is always 1-dimensional\n",
    "#[Index of Rows,Index of Column] For Slicing\n",
    "#If i want to select all rows and all columns ,then i can write \":\" alone in row slicing or column slicing place\n",
    "#If there is a \":\" int the columns slicing part then the array is 2-dimensional\n",
    "x = df.iloc[0:6,0:1].values #df.iloc[:,0:1].values\n",
    "print(x)"
   ],
   "metadata": {
    "collapsed": false,
    "ExecuteTime": {
     "end_time": "2023-08-02T11:26:29.260039200Z",
     "start_time": "2023-08-02T11:26:29.253494600Z"
    }
   }
  },
  {
   "cell_type": "code",
   "execution_count": 27,
   "outputs": [
    {
     "name": "stdout",
     "output_type": "stream",
     "text": [
      "[ 550000  800000 1050000 1240000 1400000 1650000]\n"
     ]
    }
   ],
   "source": [
    "#If there is no \":\" int the columns slicing part then the array is 1-dimensional\n",
    "y = df.iloc[:,1].values #.values Converts our data into an array\n",
    "print(y)"
   ],
   "metadata": {
    "collapsed": false,
    "ExecuteTime": {
     "end_time": "2023-08-02T11:32:36.600929100Z",
     "start_time": "2023-08-02T11:32:36.594391100Z"
    }
   }
  },
  {
   "cell_type": "code",
   "execution_count": 29,
   "outputs": [],
   "source": [
    "#5. Testing and training variables\n",
    "# Due to Limited or less data , Performing testing is not required"
   ],
   "metadata": {
    "collapsed": false,
    "ExecuteTime": {
     "end_time": "2023-08-02T11:44:06.091812700Z",
     "start_time": "2023-08-02T11:44:06.084776900Z"
    }
   }
  },
  {
   "cell_type": "code",
   "execution_count": 30,
   "outputs": [],
   "source": [
    "#6. NORMALISATION AND SCALING\n",
    "#NORMAliSATION Or SCALING is performed for multi-variate datasets and our dataset is uni-variate\n",
    "#Hence step 6 is not required"
   ],
   "metadata": {
    "collapsed": false,
    "ExecuteTime": {
     "end_time": "2023-08-02T11:44:09.698554800Z",
     "start_time": "2023-08-02T11:44:09.691042300Z"
    }
   }
  },
  {
   "cell_type": "code",
   "execution_count": 31,
   "outputs": [],
   "source": [
    "#7. Run a CLASSIFIER/REGRESSOR/CLUSTERED\n",
    "#sklearn.linear_model - package(Contains Libraries) ,LinearRegression = Library Name\n",
    "from sklearn.linear_model import LinearRegression\n",
    "model = LinearRegression()"
   ],
   "metadata": {
    "collapsed": false,
    "ExecuteTime": {
     "end_time": "2023-08-02T11:44:11.680270300Z",
     "start_time": "2023-08-02T11:44:11.673647900Z"
    }
   }
  },
  {
   "cell_type": "code",
   "execution_count": 32,
   "outputs": [
    {
     "data": {
      "text/plain": "LinearRegression()",
      "text/html": "<style>#sk-container-id-1 {color: black;}#sk-container-id-1 pre{padding: 0;}#sk-container-id-1 div.sk-toggleable {background-color: white;}#sk-container-id-1 label.sk-toggleable__label {cursor: pointer;display: block;width: 100%;margin-bottom: 0;padding: 0.3em;box-sizing: border-box;text-align: center;}#sk-container-id-1 label.sk-toggleable__label-arrow:before {content: \"▸\";float: left;margin-right: 0.25em;color: #696969;}#sk-container-id-1 label.sk-toggleable__label-arrow:hover:before {color: black;}#sk-container-id-1 div.sk-estimator:hover label.sk-toggleable__label-arrow:before {color: black;}#sk-container-id-1 div.sk-toggleable__content {max-height: 0;max-width: 0;overflow: hidden;text-align: left;background-color: #f0f8ff;}#sk-container-id-1 div.sk-toggleable__content pre {margin: 0.2em;color: black;border-radius: 0.25em;background-color: #f0f8ff;}#sk-container-id-1 input.sk-toggleable__control:checked~div.sk-toggleable__content {max-height: 200px;max-width: 100%;overflow: auto;}#sk-container-id-1 input.sk-toggleable__control:checked~label.sk-toggleable__label-arrow:before {content: \"▾\";}#sk-container-id-1 div.sk-estimator input.sk-toggleable__control:checked~label.sk-toggleable__label {background-color: #d4ebff;}#sk-container-id-1 div.sk-label input.sk-toggleable__control:checked~label.sk-toggleable__label {background-color: #d4ebff;}#sk-container-id-1 input.sk-hidden--visually {border: 0;clip: rect(1px 1px 1px 1px);clip: rect(1px, 1px, 1px, 1px);height: 1px;margin: -1px;overflow: hidden;padding: 0;position: absolute;width: 1px;}#sk-container-id-1 div.sk-estimator {font-family: monospace;background-color: #f0f8ff;border: 1px dotted black;border-radius: 0.25em;box-sizing: border-box;margin-bottom: 0.5em;}#sk-container-id-1 div.sk-estimator:hover {background-color: #d4ebff;}#sk-container-id-1 div.sk-parallel-item::after {content: \"\";width: 100%;border-bottom: 1px solid gray;flex-grow: 1;}#sk-container-id-1 div.sk-label:hover label.sk-toggleable__label {background-color: #d4ebff;}#sk-container-id-1 div.sk-serial::before {content: \"\";position: absolute;border-left: 1px solid gray;box-sizing: border-box;top: 0;bottom: 0;left: 50%;z-index: 0;}#sk-container-id-1 div.sk-serial {display: flex;flex-direction: column;align-items: center;background-color: white;padding-right: 0.2em;padding-left: 0.2em;position: relative;}#sk-container-id-1 div.sk-item {position: relative;z-index: 1;}#sk-container-id-1 div.sk-parallel {display: flex;align-items: stretch;justify-content: center;background-color: white;position: relative;}#sk-container-id-1 div.sk-item::before, #sk-container-id-1 div.sk-parallel-item::before {content: \"\";position: absolute;border-left: 1px solid gray;box-sizing: border-box;top: 0;bottom: 0;left: 50%;z-index: -1;}#sk-container-id-1 div.sk-parallel-item {display: flex;flex-direction: column;z-index: 1;position: relative;background-color: white;}#sk-container-id-1 div.sk-parallel-item:first-child::after {align-self: flex-end;width: 50%;}#sk-container-id-1 div.sk-parallel-item:last-child::after {align-self: flex-start;width: 50%;}#sk-container-id-1 div.sk-parallel-item:only-child::after {width: 0;}#sk-container-id-1 div.sk-dashed-wrapped {border: 1px dashed gray;margin: 0 0.4em 0.5em 0.4em;box-sizing: border-box;padding-bottom: 0.4em;background-color: white;}#sk-container-id-1 div.sk-label label {font-family: monospace;font-weight: bold;display: inline-block;line-height: 1.2em;}#sk-container-id-1 div.sk-label-container {text-align: center;}#sk-container-id-1 div.sk-container {/* jupyter's `normalize.less` sets `[hidden] { display: none; }` but bootstrap.min.css set `[hidden] { display: none !important; }` so we also need the `!important` here to be able to override the default hidden behavior on the sphinx rendered scikit-learn.org. See: https://github.com/scikit-learn/scikit-learn/issues/21755 */display: inline-block !important;position: relative;}#sk-container-id-1 div.sk-text-repr-fallback {display: none;}</style><div id=\"sk-container-id-1\" class=\"sk-top-container\"><div class=\"sk-text-repr-fallback\"><pre>LinearRegression()</pre><b>In a Jupyter environment, please rerun this cell to show the HTML representation or trust the notebook. <br />On GitHub, the HTML representation is unable to render, please try loading this page with nbviewer.org.</b></div><div class=\"sk-container\" hidden><div class=\"sk-item\"><div class=\"sk-estimator sk-toggleable\"><input class=\"sk-toggleable__control sk-hidden--visually\" id=\"sk-estimator-id-1\" type=\"checkbox\" checked><label for=\"sk-estimator-id-1\" class=\"sk-toggleable__label sk-toggleable__label-arrow\">LinearRegression</label><div class=\"sk-toggleable__content\"><pre>LinearRegression()</pre></div></div></div></div></div>"
     },
     "execution_count": 32,
     "metadata": {},
     "output_type": "execute_result"
    }
   ],
   "source": [
    "#8. Fit the model (map inputs with the outputs)\n",
    "#LinearRegression.fit(x,y)\n",
    "model.fit(x,y) #We are plotting the values of x and y in the linear regression library"
   ],
   "metadata": {
    "collapsed": false,
    "ExecuteTime": {
     "end_time": "2023-08-02T11:45:28.788658400Z",
     "start_time": "2023-08-02T11:45:28.779641200Z"
    }
   }
  },
  {
   "cell_type": "code",
   "execution_count": 34,
   "outputs": [
    {
     "name": "stdout",
     "output_type": "stream",
     "text": [
      "[ 611053.81165919  821031.39013453  947017.93721973 1198991.03139013\n",
      " 1450964.12556054 1660941.70403587]\n"
     ]
    }
   ],
   "source": [
    "#9. Predicting the OUTPUT\n",
    "y_pred =model.predict(x) #Using the input values we predict the output values\n",
    "print(y_pred) #Predicted Output Values"
   ],
   "metadata": {
    "collapsed": false,
    "ExecuteTime": {
     "end_time": "2023-08-02T11:48:52.178891100Z",
     "start_time": "2023-08-02T11:48:52.143719700Z"
    }
   }
  },
  {
   "cell_type": "code",
   "execution_count": 37,
   "outputs": [
    {
     "name": "stdout",
     "output_type": "stream",
     "text": [
      "[ 550000  800000 1050000 1240000 1400000 1650000]\n"
     ]
    }
   ],
   "source": [
    "print(y) #Actual Output Values"
   ],
   "metadata": {
    "collapsed": false,
    "ExecuteTime": {
     "end_time": "2023-08-02T11:49:56.059016600Z",
     "start_time": "2023-08-02T11:49:56.053412800Z"
    }
   }
  },
  {
   "cell_type": "code",
   "execution_count": null,
   "outputs": [],
   "source": [
    "#CONCLUSION = we have to compare y_pred and y\n",
    "#When we compare y_pred and y we see that there is a huge difference between the original price and the predicted price\n",
    "#This huge difference doesn't mean that the values are wrong or the prediction done is wrong\n",
    "#This just means that our  model is not LINEAR\n",
    "#Linearity of the model depends on the size of the data and the nature of the datab"
   ],
   "metadata": {
    "collapsed": false
   }
  },
  {
   "cell_type": "code",
   "execution_count": 41,
   "outputs": [
    {
     "data": {
      "text/plain": "array([1031008.96860987])"
     },
     "execution_count": 41,
     "metadata": {},
     "output_type": "execute_result"
    }
   ],
   "source": [
    "#Individual Prediction of data\n",
    "#I wan to know the predicted price for the 2000 SQFT model\n",
    "model.predict([[2000]])"
   ],
   "metadata": {
    "collapsed": false,
    "ExecuteTime": {
     "end_time": "2023-08-02T11:59:58.798041800Z",
     "start_time": "2023-08-02T11:59:58.788512300Z"
    }
   }
  },
  {
   "cell_type": "code",
   "execution_count": null,
   "outputs": [],
   "source": [
    "#CROSS VERIFICATION TECHNIQUE\n",
    "# y =mx + C # Equation of Straight Line\n",
    "# m = slope\n",
    "# C = Constant/y-intercept\n",
    "# y = Dependent Variable\n",
    "# x = Independent variable"
   ],
   "metadata": {
    "collapsed": false
   }
  },
  {
   "cell_type": "code",
   "execution_count": 42,
   "outputs": [
    {
     "name": "stdout",
     "output_type": "stream",
     "text": [
      "[419.95515695]\n"
     ]
    }
   ],
   "source": [
    "# TO Find Slope(m)\n",
    "m = model.coef_\n",
    "print(m)"
   ],
   "metadata": {
    "collapsed": false,
    "ExecuteTime": {
     "end_time": "2023-08-02T12:08:32.110068100Z",
     "start_time": "2023-08-02T12:08:32.100075400Z"
    }
   }
  },
  {
   "cell_type": "code",
   "execution_count": 44,
   "outputs": [
    {
     "name": "stdout",
     "output_type": "stream",
     "text": [
      "191098.65470852004\n"
     ]
    }
   ],
   "source": [
    "# To find y-Intercept (C)\n",
    "C = model.intercept_\n",
    "print(C)"
   ],
   "metadata": {
    "collapsed": false,
    "ExecuteTime": {
     "end_time": "2023-08-02T12:10:01.642464300Z",
     "start_time": "2023-08-02T12:10:01.625434800Z"
    }
   }
  },
  {
   "cell_type": "code",
   "execution_count": 45,
   "outputs": [
    {
     "data": {
      "text/plain": "array([1031008.96860987])"
     },
     "execution_count": 45,
     "metadata": {},
     "output_type": "execute_result"
    }
   ],
   "source": [
    "# Now substitute the value of m and C in y= mx+C\n",
    "m*[2000]+C"
   ],
   "metadata": {
    "collapsed": false,
    "ExecuteTime": {
     "end_time": "2023-08-02T12:11:15.761351200Z",
     "start_time": "2023-08-02T12:11:15.747836Z"
    }
   }
  },
  {
   "cell_type": "code",
   "execution_count": 48,
   "outputs": [
    {
     "data": {
      "text/plain": "Text(0.5, 1.0, 'The best fit line')"
     },
     "execution_count": 48,
     "metadata": {},
     "output_type": "execute_result"
    },
    {
     "data": {
      "text/plain": "<Figure size 640x480 with 1 Axes>",
      "image/png": "[encoded data removed]"
     },
     "metadata": {},
     "output_type": "display_data"
    }
   ],
   "source": [
    "#Visualisation  for the best fit line\n",
    "plt.scatter(x,y, color = 'green')\n",
    "plt.plot(x, y_pred, color ='red')\n",
    "plt.title('The best fit line')"
   ],
   "metadata": {
    "collapsed": false,
    "ExecuteTime": {
     "end_time": "2023-08-02T12:14:03.795126Z",
     "start_time": "2023-08-02T12:14:03.310515100Z"
    }
   }
  }
 ],
 "metadata": {
  "kernelspec": {
   "display_name": "Python 3",
   "language": "python",
   "name": "python3"
  },
  "language_info": {
   "codemirror_mode": {
    "name": "ipython",
    "version": 2
   },
   "file_extension": ".py",
   "mimetype": "text/x-python",
   "name": "python",
   "nbconvert_exporter": "python",
   "pygments_lexer": "ipython2",
   "version": "2.7.6"
  }
 },
 "nbformat": 4,
 "nbformat_minor": 0
}
